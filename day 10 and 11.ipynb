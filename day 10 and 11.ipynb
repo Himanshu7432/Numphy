{
 "cells": [
  {
   "cell_type": "code",
   "execution_count": 1,
   "id": "d97eab98-ef68-4c27-825a-663caa5202cc",
   "metadata": {},
   "outputs": [],
   "source": [
    "import pandas as pd"
   ]
  },
  {
   "cell_type": "code",
   "execution_count": 2,
   "id": "ae6dbfe9-ab13-48b4-befa-6c7df2feb129",
   "metadata": {},
   "outputs": [],
   "source": [
    "movies = pd.read_csv('my_movies10.csv')"
   ]
  },
  {
   "cell_type": "code",
   "execution_count": 66,
   "id": "bc96e30d-f4c8-4874-9ec5-fcec40c5876e",
   "metadata": {},
   "outputs": [
    {
     "data": {
      "text/html": [
       "<div>\n",
       "<style scoped>\n",
       "    .dataframe tbody tr th:only-of-type {\n",
       "        vertical-align: middle;\n",
       "    }\n",
       "\n",
       "    .dataframe tbody tr th {\n",
       "        vertical-align: top;\n",
       "    }\n",
       "\n",
       "    .dataframe thead th {\n",
       "        text-align: right;\n",
       "    }\n",
       "</style>\n",
       "<table border=\"1\" class=\"dataframe\">\n",
       "  <thead>\n",
       "    <tr style=\"text-align: right;\">\n",
       "      <th></th>\n",
       "      <th>ID</th>\n",
       "      <th>NAME</th>\n",
       "      <th>INDUSTRY</th>\n",
       "      <th>GENRE</th>\n",
       "      <th>LANGUAGE</th>\n",
       "      <th>DURATION</th>\n",
       "      <th>RATING</th>\n",
       "      <th>Unnamed: 7</th>\n",
       "    </tr>\n",
       "  </thead>\n",
       "  <tbody>\n",
       "    <tr>\n",
       "      <th>0</th>\n",
       "      <td>1</td>\n",
       "      <td>Bahubali</td>\n",
       "      <td>Tollywood</td>\n",
       "      <td>Action</td>\n",
       "      <td>Telugu</td>\n",
       "      <td>170</td>\n",
       "      <td>9.5</td>\n",
       "      <td>NaN</td>\n",
       "    </tr>\n",
       "    <tr>\n",
       "      <th>1</th>\n",
       "      <td>2</td>\n",
       "      <td>Brahmastre</td>\n",
       "      <td>Bollywood</td>\n",
       "      <td>Mysterious</td>\n",
       "      <td>Hindi</td>\n",
       "      <td>180</td>\n",
       "      <td>5.0</td>\n",
       "      <td>NaN</td>\n",
       "    </tr>\n",
       "    <tr>\n",
       "      <th>2</th>\n",
       "      <td>3</td>\n",
       "      <td>URI-The Surgical Strike</td>\n",
       "      <td>Bollywood</td>\n",
       "      <td>Bollywood</td>\n",
       "      <td>Hindi</td>\n",
       "      <td>120</td>\n",
       "      <td>10.0</td>\n",
       "      <td>NaN</td>\n",
       "    </tr>\n",
       "    <tr>\n",
       "      <th>3</th>\n",
       "      <td>4</td>\n",
       "      <td>DDLJ</td>\n",
       "      <td>Bollywood</td>\n",
       "      <td>Romantic</td>\n",
       "      <td>Hindi</td>\n",
       "      <td>150</td>\n",
       "      <td>10.0</td>\n",
       "      <td>NaN</td>\n",
       "    </tr>\n",
       "    <tr>\n",
       "      <th>4</th>\n",
       "      <td>5</td>\n",
       "      <td>Avengers-End game</td>\n",
       "      <td>Hollywood</td>\n",
       "      <td>Action</td>\n",
       "      <td>English</td>\n",
       "      <td>180</td>\n",
       "      <td>9.0</td>\n",
       "      <td>NaN</td>\n",
       "    </tr>\n",
       "    <tr>\n",
       "      <th>5</th>\n",
       "      <td>6</td>\n",
       "      <td>Tenet</td>\n",
       "      <td>Hollywood</td>\n",
       "      <td>SciFi</td>\n",
       "      <td>English</td>\n",
       "      <td>150</td>\n",
       "      <td>8.5</td>\n",
       "      <td>NaN</td>\n",
       "    </tr>\n",
       "    <tr>\n",
       "      <th>6</th>\n",
       "      <td>7</td>\n",
       "      <td>Major</td>\n",
       "      <td>Bollywood</td>\n",
       "      <td>Action</td>\n",
       "      <td>Hindi</td>\n",
       "      <td>140</td>\n",
       "      <td>8.0</td>\n",
       "      <td>NaN</td>\n",
       "    </tr>\n",
       "    <tr>\n",
       "      <th>7</th>\n",
       "      <td>8</td>\n",
       "      <td>Intersteller</td>\n",
       "      <td>Hollywood</td>\n",
       "      <td>SciFi</td>\n",
       "      <td>English</td>\n",
       "      <td>190</td>\n",
       "      <td>7.0</td>\n",
       "      <td>NaN</td>\n",
       "    </tr>\n",
       "    <tr>\n",
       "      <th>8</th>\n",
       "      <td>9</td>\n",
       "      <td>Gravity</td>\n",
       "      <td>Hollywood</td>\n",
       "      <td>SciFi</td>\n",
       "      <td>English</td>\n",
       "      <td>130</td>\n",
       "      <td>6.0</td>\n",
       "      <td>NaN</td>\n",
       "    </tr>\n",
       "    <tr>\n",
       "      <th>9</th>\n",
       "      <td>10</td>\n",
       "      <td>Titanic</td>\n",
       "      <td>Hollywood</td>\n",
       "      <td>Drama</td>\n",
       "      <td>English</td>\n",
       "      <td>180</td>\n",
       "      <td>9.0</td>\n",
       "      <td>NaN</td>\n",
       "    </tr>\n",
       "    <tr>\n",
       "      <th>10</th>\n",
       "      <td>11</td>\n",
       "      <td>Yeh jawani hai dewani</td>\n",
       "      <td>Hollywood</td>\n",
       "      <td>Romantic</td>\n",
       "      <td>Hindi</td>\n",
       "      <td>150</td>\n",
       "      <td>5.0</td>\n",
       "      <td>NaN</td>\n",
       "    </tr>\n",
       "    <tr>\n",
       "      <th>11</th>\n",
       "      <td>12</td>\n",
       "      <td>Houseful</td>\n",
       "      <td>Bollywood</td>\n",
       "      <td>Comedy</td>\n",
       "      <td>Hindi</td>\n",
       "      <td>150</td>\n",
       "      <td>6.0</td>\n",
       "      <td>NaN</td>\n",
       "    </tr>\n",
       "    <tr>\n",
       "      <th>12</th>\n",
       "      <td>13</td>\n",
       "      <td>The Dictator</td>\n",
       "      <td>Hollywood</td>\n",
       "      <td>Comedy</td>\n",
       "      <td>English</td>\n",
       "      <td>120</td>\n",
       "      <td>7.0</td>\n",
       "      <td>NaN</td>\n",
       "    </tr>\n",
       "    <tr>\n",
       "      <th>13</th>\n",
       "      <td>14</td>\n",
       "      <td>Hera Sheri</td>\n",
       "      <td>Bollywood</td>\n",
       "      <td>Comedy</td>\n",
       "      <td>Hindi</td>\n",
       "      <td>140</td>\n",
       "      <td>9.0</td>\n",
       "      <td>NaN</td>\n",
       "    </tr>\n",
       "    <tr>\n",
       "      <th>14</th>\n",
       "      <td>15</td>\n",
       "      <td>Sholay</td>\n",
       "      <td>Bollywood</td>\n",
       "      <td>Drama</td>\n",
       "      <td>Hindi</td>\n",
       "      <td>150</td>\n",
       "      <td>8.5</td>\n",
       "      <td>NaN</td>\n",
       "    </tr>\n",
       "  </tbody>\n",
       "</table>\n",
       "</div>"
      ],
      "text/plain": [
       "    ID                    NAME    INDUSTRY       GENRE LANGUAGE  DURATION  \\\n",
       "0    1                 Bahubali  Tollywood      Action   Telugu       170   \n",
       "1    2               Brahmastre  Bollywood  Mysterious    Hindi       180   \n",
       "2    3  URI-The Surgical Strike  Bollywood   Bollywood    Hindi       120   \n",
       "3    4                     DDLJ  Bollywood    Romantic    Hindi       150   \n",
       "4    5        Avengers-End game  Hollywood      Action  English       180   \n",
       "5    6                    Tenet  Hollywood       SciFi  English       150   \n",
       "6    7                    Major  Bollywood      Action    Hindi       140   \n",
       "7    8             Intersteller  Hollywood       SciFi  English       190   \n",
       "8    9                  Gravity  Hollywood       SciFi  English       130   \n",
       "9   10                  Titanic  Hollywood       Drama  English       180   \n",
       "10  11    Yeh jawani hai dewani  Hollywood    Romantic    Hindi       150   \n",
       "11  12                 Houseful  Bollywood      Comedy    Hindi       150   \n",
       "12  13             The Dictator  Hollywood      Comedy  English       120   \n",
       "13  14               Hera Sheri  Bollywood      Comedy    Hindi       140   \n",
       "14  15                   Sholay  Bollywood       Drama    Hindi       150   \n",
       "\n",
       "    RATING  Unnamed: 7  \n",
       "0      9.5         NaN  \n",
       "1      5.0         NaN  \n",
       "2     10.0         NaN  \n",
       "3     10.0         NaN  \n",
       "4      9.0         NaN  \n",
       "5      8.5         NaN  \n",
       "6      8.0         NaN  \n",
       "7      7.0         NaN  \n",
       "8      6.0         NaN  \n",
       "9      9.0         NaN  \n",
       "10     5.0         NaN  \n",
       "11     6.0         NaN  \n",
       "12     7.0         NaN  \n",
       "13     9.0         NaN  \n",
       "14     8.5         NaN  "
      ]
     },
     "execution_count": 66,
     "metadata": {},
     "output_type": "execute_result"
    }
   ],
   "source": [
    "movies"
   ]
  },
  {
   "cell_type": "code",
   "execution_count": 5,
   "id": "88305d8c-c80d-4ca0-bc9f-4064c34123c8",
   "metadata": {},
   "outputs": [
    {
     "data": {
      "text/plain": [
       "7"
      ]
     },
     "execution_count": 5,
     "metadata": {},
     "output_type": "execute_result"
    }
   ],
   "source": [
    "movies['DURATION'].argmax()"
   ]
  },
  {
   "cell_type": "code",
   "execution_count": 20,
   "id": "3a64ef46-ebd0-4c52-8ac2-c273016381e1",
   "metadata": {},
   "outputs": [
    {
     "data": {
      "text/plain": [
       "0                    Bahubali\n",
       "1                  Brahmastre\n",
       "2     URI-The Surgical Strike\n",
       "3                        DDLJ\n",
       "4           Avengers-End game\n",
       "5                       Tenet\n",
       "6                       Major\n",
       "7                Intersteller\n",
       "8                     Gravity\n",
       "9                     Titanic\n",
       "10      Yeh jawani hai dewani\n",
       "11                   Houseful\n",
       "12               The Dictator\n",
       "13                 Hera Sheri\n",
       "14                     Sholay\n",
       "Name: NAME , dtype: object"
      ]
     },
     "execution_count": 20,
     "metadata": {},
     "output_type": "execute_result"
    }
   ],
   "source": [
    "movies['NAME ']\n"
   ]
  },
  {
   "cell_type": "code",
   "execution_count": 22,
   "id": "0ab2091b-7293-4e7d-9691-9d0c2ad2796e",
   "metadata": {},
   "outputs": [
    {
     "data": {
      "text/plain": [
       "'Intersteller'"
      ]
     },
     "execution_count": 22,
     "metadata": {},
     "output_type": "execute_result"
    }
   ],
   "source": [
    "movies['NAME '][movies['DURATION'].argmax()]"
   ]
  },
  {
   "cell_type": "markdown",
   "id": "d6f1142d-1a2c-4f2a-8ef3-7e10a334bb32",
   "metadata": {},
   "source": [
    "2.Number of movies who got 10 rating?"
   ]
  },
  {
   "cell_type": "code",
   "execution_count": 25,
   "id": "7f82e750-a111-4937-9a8a-2bede0a8e510",
   "metadata": {},
   "outputs": [
    {
     "data": {
      "text/plain": [
       "2"
      ]
     },
     "execution_count": 25,
     "metadata": {},
     "output_type": "execute_result"
    }
   ],
   "source": [
    "sum(movies['RATING']==10)"
   ]
  },
  {
   "cell_type": "markdown",
   "id": "a67cabb4-d8e1-4255-9ca0-1d457587314a",
   "metadata": {},
   "source": [
    "2.How many industries are there?"
   ]
  },
  {
   "cell_type": "code",
   "execution_count": 30,
   "id": "7bda94b5-bb80-40da-8f69-7f4d465952dc",
   "metadata": {},
   "outputs": [
    {
     "data": {
      "text/plain": [
       "3"
      ]
     },
     "execution_count": 30,
     "metadata": {},
     "output_type": "execute_result"
    }
   ],
   "source": [
    "movies['INDUSTRY'].value_counts().count()"
   ]
  },
  {
   "cell_type": "code",
   "execution_count": 31,
   "id": "360b2014-26d1-4eb4-bb10-c32ff3338712",
   "metadata": {},
   "outputs": [
    {
     "data": {
      "text/plain": [
       "3"
      ]
     },
     "execution_count": 31,
     "metadata": {},
     "output_type": "execute_result"
    }
   ],
   "source": [
    "len(movies['INDUSTRY'].value_counts())"
   ]
  },
  {
   "cell_type": "code",
   "execution_count": 32,
   "id": "59222eea-6925-441e-b7ce-3e224a7c537f",
   "metadata": {},
   "outputs": [
    {
     "data": {
      "text/plain": [
       "3"
      ]
     },
     "execution_count": 32,
     "metadata": {},
     "output_type": "execute_result"
    }
   ],
   "source": [
    "movies['INDUSTRY'].nunique()"
   ]
  },
  {
   "cell_type": "markdown",
   "id": "d74f858a-bc6e-4580-83d1-0bffcf77d3f6",
   "metadata": {},
   "source": [
    "4. Find least Linked Comedy Movie?"
   ]
  },
  {
   "cell_type": "code",
   "execution_count": 35,
   "id": "d7bf22c5-494e-4b7f-aa7d-a49dab528d43",
   "metadata": {},
   "outputs": [
    {
     "data": {
      "text/html": [
       "<div>\n",
       "<style scoped>\n",
       "    .dataframe tbody tr th:only-of-type {\n",
       "        vertical-align: middle;\n",
       "    }\n",
       "\n",
       "    .dataframe tbody tr th {\n",
       "        vertical-align: top;\n",
       "    }\n",
       "\n",
       "    .dataframe thead th {\n",
       "        text-align: right;\n",
       "    }\n",
       "</style>\n",
       "<table border=\"1\" class=\"dataframe\">\n",
       "  <thead>\n",
       "    <tr style=\"text-align: right;\">\n",
       "      <th></th>\n",
       "      <th>ID</th>\n",
       "      <th>NAME</th>\n",
       "      <th>INDUSTRY</th>\n",
       "      <th>GENRE</th>\n",
       "      <th>LANGUAGE</th>\n",
       "      <th>DURATION</th>\n",
       "      <th>RATING</th>\n",
       "      <th>Unnamed: 7</th>\n",
       "    </tr>\n",
       "  </thead>\n",
       "  <tbody>\n",
       "    <tr>\n",
       "      <th>11</th>\n",
       "      <td>12</td>\n",
       "      <td>Houseful</td>\n",
       "      <td>Bollywood</td>\n",
       "      <td>Comedy</td>\n",
       "      <td>Hindi</td>\n",
       "      <td>150</td>\n",
       "      <td>6.0</td>\n",
       "      <td>NaN</td>\n",
       "    </tr>\n",
       "    <tr>\n",
       "      <th>12</th>\n",
       "      <td>13</td>\n",
       "      <td>The Dictator</td>\n",
       "      <td>Hollywood</td>\n",
       "      <td>Comedy</td>\n",
       "      <td>English</td>\n",
       "      <td>120</td>\n",
       "      <td>7.0</td>\n",
       "      <td>NaN</td>\n",
       "    </tr>\n",
       "    <tr>\n",
       "      <th>13</th>\n",
       "      <td>14</td>\n",
       "      <td>Hera Sheri</td>\n",
       "      <td>Bollywood</td>\n",
       "      <td>Comedy</td>\n",
       "      <td>Hindi</td>\n",
       "      <td>140</td>\n",
       "      <td>9.0</td>\n",
       "      <td>NaN</td>\n",
       "    </tr>\n",
       "  </tbody>\n",
       "</table>\n",
       "</div>"
      ],
      "text/plain": [
       "    ID         NAME    INDUSTRY   GENRE LANGUAGE  DURATION  RATING  Unnamed: 7\n",
       "11  12      Houseful  Bollywood  Comedy    Hindi       150     6.0         NaN\n",
       "12  13  The Dictator  Hollywood  Comedy  English       120     7.0         NaN\n",
       "13  14    Hera Sheri  Bollywood  Comedy    Hindi       140     9.0         NaN"
      ]
     },
     "execution_count": 35,
     "metadata": {},
     "output_type": "execute_result"
    }
   ],
   "source": [
    "movies[movies['GENRE'] == 'Comedy']"
   ]
  },
  {
   "cell_type": "code",
   "execution_count": 36,
   "id": "012a2498-c016-4c9b-93b1-016936a620f0",
   "metadata": {},
   "outputs": [
    {
     "data": {
      "text/plain": [
       "11    6.0\n",
       "12    7.0\n",
       "13    9.0\n",
       "Name: RATING, dtype: float64"
      ]
     },
     "execution_count": 36,
     "metadata": {},
     "output_type": "execute_result"
    }
   ],
   "source": [
    "movies[movies['GENRE'] == 'Comedy']['RATING']"
   ]
  },
  {
   "cell_type": "code",
   "execution_count": 37,
   "id": "b118c44c-18e1-4eb9-ae57-4e69301df551",
   "metadata": {},
   "outputs": [
    {
     "data": {
      "text/plain": [
       "6.0"
      ]
     },
     "execution_count": 37,
     "metadata": {},
     "output_type": "execute_result"
    }
   ],
   "source": [
    "movies[movies['GENRE'] == 'Comedy']['RATING'].min()"
   ]
  },
  {
   "cell_type": "code",
   "execution_count": 53,
   "id": "a3ac0302-fd5a-4c21-9e3f-6528bfd43b6c",
   "metadata": {},
   "outputs": [
    {
     "ename": "AttributeError",
     "evalue": "'Series' object has no attribute 'idmin'",
     "output_type": "error",
     "traceback": [
      "\u001b[0;31m---------------------------------------------------------------------------\u001b[0m",
      "\u001b[0;31mAttributeError\u001b[0m                            Traceback (most recent call last)",
      "Input \u001b[0;32mIn [53]\u001b[0m, in \u001b[0;36m<cell line: 1>\u001b[0;34m()\u001b[0m\n\u001b[0;32m----> 1\u001b[0m movies[\u001b[38;5;124m'\u001b[39m\u001b[38;5;124mNAME \u001b[39m\u001b[38;5;124m'\u001b[39m][\u001b[43mmovies\u001b[49m\u001b[43m[\u001b[49m\u001b[43mmovies\u001b[49m\u001b[43m[\u001b[49m\u001b[38;5;124;43m'\u001b[39;49m\u001b[38;5;124;43mGENRE\u001b[39;49m\u001b[38;5;124;43m'\u001b[39;49m\u001b[43m]\u001b[49m\u001b[43m \u001b[49m\u001b[38;5;241;43m==\u001b[39;49m\u001b[43m \u001b[49m\u001b[38;5;124;43m'\u001b[39;49m\u001b[38;5;124;43mComedy\u001b[39;49m\u001b[38;5;124;43m'\u001b[39;49m\u001b[43m]\u001b[49m\u001b[43m[\u001b[49m\u001b[38;5;124;43m'\u001b[39;49m\u001b[38;5;124;43mRATING\u001b[39;49m\u001b[38;5;124;43m'\u001b[39;49m\u001b[43m]\u001b[49m\u001b[38;5;241;43m.\u001b[39;49m\u001b[43midmin\u001b[49m()]\n",
      "File \u001b[0;32m~/opt/anaconda3/lib/python3.9/site-packages/pandas/core/generic.py:5575\u001b[0m, in \u001b[0;36mNDFrame.__getattr__\u001b[0;34m(self, name)\u001b[0m\n\u001b[1;32m   5568\u001b[0m \u001b[38;5;28;01mif\u001b[39;00m (\n\u001b[1;32m   5569\u001b[0m     name \u001b[38;5;129;01mnot\u001b[39;00m \u001b[38;5;129;01min\u001b[39;00m \u001b[38;5;28mself\u001b[39m\u001b[38;5;241m.\u001b[39m_internal_names_set\n\u001b[1;32m   5570\u001b[0m     \u001b[38;5;129;01mand\u001b[39;00m name \u001b[38;5;129;01mnot\u001b[39;00m \u001b[38;5;129;01min\u001b[39;00m \u001b[38;5;28mself\u001b[39m\u001b[38;5;241m.\u001b[39m_metadata\n\u001b[1;32m   5571\u001b[0m     \u001b[38;5;129;01mand\u001b[39;00m name \u001b[38;5;129;01mnot\u001b[39;00m \u001b[38;5;129;01min\u001b[39;00m \u001b[38;5;28mself\u001b[39m\u001b[38;5;241m.\u001b[39m_accessors\n\u001b[1;32m   5572\u001b[0m     \u001b[38;5;129;01mand\u001b[39;00m \u001b[38;5;28mself\u001b[39m\u001b[38;5;241m.\u001b[39m_info_axis\u001b[38;5;241m.\u001b[39m_can_hold_identifiers_and_holds_name(name)\n\u001b[1;32m   5573\u001b[0m ):\n\u001b[1;32m   5574\u001b[0m     \u001b[38;5;28;01mreturn\u001b[39;00m \u001b[38;5;28mself\u001b[39m[name]\n\u001b[0;32m-> 5575\u001b[0m \u001b[38;5;28;01mreturn\u001b[39;00m \u001b[38;5;28;43mobject\u001b[39;49m\u001b[38;5;241;43m.\u001b[39;49m\u001b[38;5;21;43m__getattribute__\u001b[39;49m\u001b[43m(\u001b[49m\u001b[38;5;28;43mself\u001b[39;49m\u001b[43m,\u001b[49m\u001b[43m \u001b[49m\u001b[43mname\u001b[49m\u001b[43m)\u001b[49m\n",
      "\u001b[0;31mAttributeError\u001b[0m: 'Series' object has no attribute 'idmin'"
     ]
    }
   ],
   "source": [
    "movies['NAME '][movies[movies['GENRE'] == 'Comedy']['RATING'].idmin()]"
   ]
  },
  {
   "cell_type": "markdown",
   "id": "23db2aa5-dddb-4881-884b-69172d2828da",
   "metadata": {},
   "source": []
  },
  {
   "cell_type": "code",
   "execution_count": 55,
   "id": "511252ed-868a-4b94-909c-52af17601c0e",
   "metadata": {},
   "outputs": [
    {
     "data": {
      "text/plain": [
       "Index(['ID', 'NAME ', 'INDUSTRY', 'GENRE', 'LANGUAGE', 'DURATION', 'RATING',\n",
       "       'Unnamed: 7'],\n",
       "      dtype='object')"
      ]
     },
     "execution_count": 55,
     "metadata": {},
     "output_type": "execute_result"
    }
   ],
   "source": [
    "movies.columns"
   ]
  },
  {
   "cell_type": "markdown",
   "id": "d58c76a5-2415-43dc-91ee-5f7047623bc2",
   "metadata": {},
   "source": [
    "5.longest english movie name\n"
   ]
  },
  {
   "cell_type": "code",
   "execution_count": 60,
   "id": "96161b2c-7b72-4192-8968-8a15d40ed961",
   "metadata": {},
   "outputs": [
    {
     "ename": "SyntaxError",
     "evalue": "unmatched ']' (651089043.py, line 1)",
     "output_type": "error",
     "traceback": [
      "\u001b[0;36m  Input \u001b[0;32mIn [60]\u001b[0;36m\u001b[0m\n\u001b[0;31m    movies['NAME '][movies[movies['lANGUAGE']]=='[English']['DURATION'].idmax()]\u001b[0m\n\u001b[0m                                                                               ^\u001b[0m\n\u001b[0;31mSyntaxError\u001b[0m\u001b[0;31m:\u001b[0m unmatched ']'\n"
     ]
    }
   ],
   "source": [
    "movies['NAME '][movies[movies['lANGUAGE']]=='[English']['DURATION'].idmax()]"
   ]
  },
  {
   "cell_type": "markdown",
   "id": "86ef157e-4ab5-4cff-809d-50d0b771eab6",
   "metadata": {},
   "source": [
    "6.What is genre of intersteller"
   ]
  },
  {
   "cell_type": "code",
   "execution_count": 65,
   "id": "2a908528-07c9-4980-9e1d-4c0e2c8c5daf",
   "metadata": {},
   "outputs": [
    {
     "data": {
      "text/plain": [
       "'SciFi'"
      ]
     },
     "execution_count": 65,
     "metadata": {},
     "output_type": "execute_result"
    }
   ],
   "source": [
    "movies['GENRE'][movies['NAME ']=='Intersteller'].values[0]"
   ]
  },
  {
   "cell_type": "code",
   "execution_count": 69,
   "id": "e261d883-99e2-41f8-8ba9-96e7801d9b6a",
   "metadata": {},
   "outputs": [
    {
     "data": {
      "text/plain": [
       "['h', 'llo']"
      ]
     },
     "execution_count": 69,
     "metadata": {},
     "output_type": "execute_result"
    }
   ],
   "source": [
    "'hello'.split('e')"
   ]
  },
  {
   "cell_type": "code",
   "execution_count": 71,
   "id": "b9d544c7-66f4-46d5-812f-0a4d6ce0c2cc",
   "metadata": {},
   "outputs": [
    {
     "data": {
      "text/plain": [
       "'SciFi'"
      ]
     },
     "execution_count": 71,
     "metadata": {},
     "output_type": "execute_result"
    }
   ],
   "source": [
    "movies['GENRE'][movies['NAME '].str.lower()=='Intersteller'.lower()].values[0]"
   ]
  },
  {
   "cell_type": "code",
   "execution_count": 75,
   "id": "351dfa65-5303-4e7f-92ca-07a9cb4110a2",
   "metadata": {},
   "outputs": [],
   "source": [
    "name=movies['NAME ']"
   ]
  },
  {
   "cell_type": "code",
   "execution_count": 79,
   "id": "ab1915e3-8dd4-4394-8863-72ed97237642",
   "metadata": {},
   "outputs": [
    {
     "data": {
      "text/html": [
       "<div>\n",
       "<style scoped>\n",
       "    .dataframe tbody tr th:only-of-type {\n",
       "        vertical-align: middle;\n",
       "    }\n",
       "\n",
       "    .dataframe tbody tr th {\n",
       "        vertical-align: top;\n",
       "    }\n",
       "\n",
       "    .dataframe thead th {\n",
       "        text-align: right;\n",
       "    }\n",
       "</style>\n",
       "<table border=\"1\" class=\"dataframe\">\n",
       "  <thead>\n",
       "    <tr style=\"text-align: right;\">\n",
       "      <th></th>\n",
       "      <th>Avengers-End game</th>\n",
       "      <th>Bahubali</th>\n",
       "      <th>Brahmastre</th>\n",
       "      <th>DDLJ</th>\n",
       "      <th>Gravity</th>\n",
       "      <th>Hera Sheri</th>\n",
       "      <th>Houseful</th>\n",
       "      <th>Intersteller</th>\n",
       "      <th>Major</th>\n",
       "      <th>Sholay</th>\n",
       "      <th>Tenet</th>\n",
       "      <th>The Dictator</th>\n",
       "      <th>Titanic</th>\n",
       "      <th>URI-The Surgical Strike</th>\n",
       "      <th>Yeh jawani hai dewani</th>\n",
       "    </tr>\n",
       "  </thead>\n",
       "  <tbody>\n",
       "    <tr>\n",
       "      <th>0</th>\n",
       "      <td>0</td>\n",
       "      <td>1</td>\n",
       "      <td>0</td>\n",
       "      <td>0</td>\n",
       "      <td>0</td>\n",
       "      <td>0</td>\n",
       "      <td>0</td>\n",
       "      <td>0</td>\n",
       "      <td>0</td>\n",
       "      <td>0</td>\n",
       "      <td>0</td>\n",
       "      <td>0</td>\n",
       "      <td>0</td>\n",
       "      <td>0</td>\n",
       "      <td>0</td>\n",
       "    </tr>\n",
       "    <tr>\n",
       "      <th>1</th>\n",
       "      <td>0</td>\n",
       "      <td>0</td>\n",
       "      <td>1</td>\n",
       "      <td>0</td>\n",
       "      <td>0</td>\n",
       "      <td>0</td>\n",
       "      <td>0</td>\n",
       "      <td>0</td>\n",
       "      <td>0</td>\n",
       "      <td>0</td>\n",
       "      <td>0</td>\n",
       "      <td>0</td>\n",
       "      <td>0</td>\n",
       "      <td>0</td>\n",
       "      <td>0</td>\n",
       "    </tr>\n",
       "    <tr>\n",
       "      <th>2</th>\n",
       "      <td>0</td>\n",
       "      <td>0</td>\n",
       "      <td>0</td>\n",
       "      <td>0</td>\n",
       "      <td>0</td>\n",
       "      <td>0</td>\n",
       "      <td>0</td>\n",
       "      <td>0</td>\n",
       "      <td>0</td>\n",
       "      <td>0</td>\n",
       "      <td>0</td>\n",
       "      <td>0</td>\n",
       "      <td>0</td>\n",
       "      <td>1</td>\n",
       "      <td>0</td>\n",
       "    </tr>\n",
       "    <tr>\n",
       "      <th>3</th>\n",
       "      <td>0</td>\n",
       "      <td>0</td>\n",
       "      <td>0</td>\n",
       "      <td>1</td>\n",
       "      <td>0</td>\n",
       "      <td>0</td>\n",
       "      <td>0</td>\n",
       "      <td>0</td>\n",
       "      <td>0</td>\n",
       "      <td>0</td>\n",
       "      <td>0</td>\n",
       "      <td>0</td>\n",
       "      <td>0</td>\n",
       "      <td>0</td>\n",
       "      <td>0</td>\n",
       "    </tr>\n",
       "    <tr>\n",
       "      <th>4</th>\n",
       "      <td>1</td>\n",
       "      <td>0</td>\n",
       "      <td>0</td>\n",
       "      <td>0</td>\n",
       "      <td>0</td>\n",
       "      <td>0</td>\n",
       "      <td>0</td>\n",
       "      <td>0</td>\n",
       "      <td>0</td>\n",
       "      <td>0</td>\n",
       "      <td>0</td>\n",
       "      <td>0</td>\n",
       "      <td>0</td>\n",
       "      <td>0</td>\n",
       "      <td>0</td>\n",
       "    </tr>\n",
       "    <tr>\n",
       "      <th>5</th>\n",
       "      <td>0</td>\n",
       "      <td>0</td>\n",
       "      <td>0</td>\n",
       "      <td>0</td>\n",
       "      <td>0</td>\n",
       "      <td>0</td>\n",
       "      <td>0</td>\n",
       "      <td>0</td>\n",
       "      <td>0</td>\n",
       "      <td>0</td>\n",
       "      <td>1</td>\n",
       "      <td>0</td>\n",
       "      <td>0</td>\n",
       "      <td>0</td>\n",
       "      <td>0</td>\n",
       "    </tr>\n",
       "    <tr>\n",
       "      <th>6</th>\n",
       "      <td>0</td>\n",
       "      <td>0</td>\n",
       "      <td>0</td>\n",
       "      <td>0</td>\n",
       "      <td>0</td>\n",
       "      <td>0</td>\n",
       "      <td>0</td>\n",
       "      <td>0</td>\n",
       "      <td>1</td>\n",
       "      <td>0</td>\n",
       "      <td>0</td>\n",
       "      <td>0</td>\n",
       "      <td>0</td>\n",
       "      <td>0</td>\n",
       "      <td>0</td>\n",
       "    </tr>\n",
       "    <tr>\n",
       "      <th>7</th>\n",
       "      <td>0</td>\n",
       "      <td>0</td>\n",
       "      <td>0</td>\n",
       "      <td>0</td>\n",
       "      <td>0</td>\n",
       "      <td>0</td>\n",
       "      <td>0</td>\n",
       "      <td>1</td>\n",
       "      <td>0</td>\n",
       "      <td>0</td>\n",
       "      <td>0</td>\n",
       "      <td>0</td>\n",
       "      <td>0</td>\n",
       "      <td>0</td>\n",
       "      <td>0</td>\n",
       "    </tr>\n",
       "    <tr>\n",
       "      <th>8</th>\n",
       "      <td>0</td>\n",
       "      <td>0</td>\n",
       "      <td>0</td>\n",
       "      <td>0</td>\n",
       "      <td>1</td>\n",
       "      <td>0</td>\n",
       "      <td>0</td>\n",
       "      <td>0</td>\n",
       "      <td>0</td>\n",
       "      <td>0</td>\n",
       "      <td>0</td>\n",
       "      <td>0</td>\n",
       "      <td>0</td>\n",
       "      <td>0</td>\n",
       "      <td>0</td>\n",
       "    </tr>\n",
       "    <tr>\n",
       "      <th>9</th>\n",
       "      <td>0</td>\n",
       "      <td>0</td>\n",
       "      <td>0</td>\n",
       "      <td>0</td>\n",
       "      <td>0</td>\n",
       "      <td>0</td>\n",
       "      <td>0</td>\n",
       "      <td>0</td>\n",
       "      <td>0</td>\n",
       "      <td>0</td>\n",
       "      <td>0</td>\n",
       "      <td>0</td>\n",
       "      <td>1</td>\n",
       "      <td>0</td>\n",
       "      <td>0</td>\n",
       "    </tr>\n",
       "    <tr>\n",
       "      <th>10</th>\n",
       "      <td>0</td>\n",
       "      <td>0</td>\n",
       "      <td>0</td>\n",
       "      <td>0</td>\n",
       "      <td>0</td>\n",
       "      <td>0</td>\n",
       "      <td>0</td>\n",
       "      <td>0</td>\n",
       "      <td>0</td>\n",
       "      <td>0</td>\n",
       "      <td>0</td>\n",
       "      <td>0</td>\n",
       "      <td>0</td>\n",
       "      <td>0</td>\n",
       "      <td>1</td>\n",
       "    </tr>\n",
       "    <tr>\n",
       "      <th>11</th>\n",
       "      <td>0</td>\n",
       "      <td>0</td>\n",
       "      <td>0</td>\n",
       "      <td>0</td>\n",
       "      <td>0</td>\n",
       "      <td>0</td>\n",
       "      <td>1</td>\n",
       "      <td>0</td>\n",
       "      <td>0</td>\n",
       "      <td>0</td>\n",
       "      <td>0</td>\n",
       "      <td>0</td>\n",
       "      <td>0</td>\n",
       "      <td>0</td>\n",
       "      <td>0</td>\n",
       "    </tr>\n",
       "    <tr>\n",
       "      <th>12</th>\n",
       "      <td>0</td>\n",
       "      <td>0</td>\n",
       "      <td>0</td>\n",
       "      <td>0</td>\n",
       "      <td>0</td>\n",
       "      <td>0</td>\n",
       "      <td>0</td>\n",
       "      <td>0</td>\n",
       "      <td>0</td>\n",
       "      <td>0</td>\n",
       "      <td>0</td>\n",
       "      <td>1</td>\n",
       "      <td>0</td>\n",
       "      <td>0</td>\n",
       "      <td>0</td>\n",
       "    </tr>\n",
       "    <tr>\n",
       "      <th>13</th>\n",
       "      <td>0</td>\n",
       "      <td>0</td>\n",
       "      <td>0</td>\n",
       "      <td>0</td>\n",
       "      <td>0</td>\n",
       "      <td>1</td>\n",
       "      <td>0</td>\n",
       "      <td>0</td>\n",
       "      <td>0</td>\n",
       "      <td>0</td>\n",
       "      <td>0</td>\n",
       "      <td>0</td>\n",
       "      <td>0</td>\n",
       "      <td>0</td>\n",
       "      <td>0</td>\n",
       "    </tr>\n",
       "    <tr>\n",
       "      <th>14</th>\n",
       "      <td>0</td>\n",
       "      <td>0</td>\n",
       "      <td>0</td>\n",
       "      <td>0</td>\n",
       "      <td>0</td>\n",
       "      <td>0</td>\n",
       "      <td>0</td>\n",
       "      <td>0</td>\n",
       "      <td>0</td>\n",
       "      <td>1</td>\n",
       "      <td>0</td>\n",
       "      <td>0</td>\n",
       "      <td>0</td>\n",
       "      <td>0</td>\n",
       "      <td>0</td>\n",
       "    </tr>\n",
       "  </tbody>\n",
       "</table>\n",
       "</div>"
      ],
      "text/plain": [
       "    Avengers-End game  Bahubali  Brahmastre  DDLJ  Gravity  Hera Sheri  \\\n",
       "0                   0         1           0     0        0           0   \n",
       "1                   0         0           1     0        0           0   \n",
       "2                   0         0           0     0        0           0   \n",
       "3                   0         0           0     1        0           0   \n",
       "4                   1         0           0     0        0           0   \n",
       "5                   0         0           0     0        0           0   \n",
       "6                   0         0           0     0        0           0   \n",
       "7                   0         0           0     0        0           0   \n",
       "8                   0         0           0     0        1           0   \n",
       "9                   0         0           0     0        0           0   \n",
       "10                  0         0           0     0        0           0   \n",
       "11                  0         0           0     0        0           0   \n",
       "12                  0         0           0     0        0           0   \n",
       "13                  0         0           0     0        0           1   \n",
       "14                  0         0           0     0        0           0   \n",
       "\n",
       "    Houseful  Intersteller  Major  Sholay  Tenet  The Dictator  Titanic  \\\n",
       "0          0             0      0       0      0             0        0   \n",
       "1          0             0      0       0      0             0        0   \n",
       "2          0             0      0       0      0             0        0   \n",
       "3          0             0      0       0      0             0        0   \n",
       "4          0             0      0       0      0             0        0   \n",
       "5          0             0      0       0      1             0        0   \n",
       "6          0             0      1       0      0             0        0   \n",
       "7          0             1      0       0      0             0        0   \n",
       "8          0             0      0       0      0             0        0   \n",
       "9          0             0      0       0      0             0        1   \n",
       "10         0             0      0       0      0             0        0   \n",
       "11         1             0      0       0      0             0        0   \n",
       "12         0             0      0       0      0             1        0   \n",
       "13         0             0      0       0      0             0        0   \n",
       "14         0             0      0       1      0             0        0   \n",
       "\n",
       "    URI-The Surgical Strike  Yeh jawani hai dewani  \n",
       "0                         0                      0  \n",
       "1                         0                      0  \n",
       "2                         1                      0  \n",
       "3                         0                      0  \n",
       "4                         0                      0  \n",
       "5                         0                      0  \n",
       "6                         0                      0  \n",
       "7                         0                      0  \n",
       "8                         0                      0  \n",
       "9                         0                      0  \n",
       "10                        0                      1  \n",
       "11                        0                      0  \n",
       "12                        0                      0  \n",
       "13                        0                      0  \n",
       "14                        0                      0  "
      ]
     },
     "execution_count": 79,
     "metadata": {},
     "output_type": "execute_result"
    }
   ],
   "source": [
    "name.str.get_dummies()"
   ]
  },
  {
   "cell_type": "code",
   "execution_count": 81,
   "id": "188675e9-e187-4d5c-8eb6-b6ff5269a337",
   "metadata": {},
   "outputs": [
    {
     "data": {
      "text/html": [
       "<div>\n",
       "<style scoped>\n",
       "    .dataframe tbody tr th:only-of-type {\n",
       "        vertical-align: middle;\n",
       "    }\n",
       "\n",
       "    .dataframe tbody tr th {\n",
       "        vertical-align: top;\n",
       "    }\n",
       "\n",
       "    .dataframe thead th {\n",
       "        text-align: right;\n",
       "    }\n",
       "</style>\n",
       "<table border=\"1\" class=\"dataframe\">\n",
       "  <thead>\n",
       "    <tr style=\"text-align: right;\">\n",
       "      <th></th>\n",
       "      <th>Action</th>\n",
       "      <th>Bollywood</th>\n",
       "      <th>Comedy</th>\n",
       "      <th>Drama</th>\n",
       "      <th>Mysterious</th>\n",
       "      <th>Romantic</th>\n",
       "      <th>SciFi</th>\n",
       "    </tr>\n",
       "  </thead>\n",
       "  <tbody>\n",
       "    <tr>\n",
       "      <th>0</th>\n",
       "      <td>1</td>\n",
       "      <td>0</td>\n",
       "      <td>0</td>\n",
       "      <td>0</td>\n",
       "      <td>0</td>\n",
       "      <td>0</td>\n",
       "      <td>0</td>\n",
       "    </tr>\n",
       "    <tr>\n",
       "      <th>1</th>\n",
       "      <td>0</td>\n",
       "      <td>0</td>\n",
       "      <td>0</td>\n",
       "      <td>0</td>\n",
       "      <td>1</td>\n",
       "      <td>0</td>\n",
       "      <td>0</td>\n",
       "    </tr>\n",
       "    <tr>\n",
       "      <th>2</th>\n",
       "      <td>0</td>\n",
       "      <td>1</td>\n",
       "      <td>0</td>\n",
       "      <td>0</td>\n",
       "      <td>0</td>\n",
       "      <td>0</td>\n",
       "      <td>0</td>\n",
       "    </tr>\n",
       "    <tr>\n",
       "      <th>3</th>\n",
       "      <td>0</td>\n",
       "      <td>0</td>\n",
       "      <td>0</td>\n",
       "      <td>0</td>\n",
       "      <td>0</td>\n",
       "      <td>1</td>\n",
       "      <td>0</td>\n",
       "    </tr>\n",
       "    <tr>\n",
       "      <th>4</th>\n",
       "      <td>1</td>\n",
       "      <td>0</td>\n",
       "      <td>0</td>\n",
       "      <td>0</td>\n",
       "      <td>0</td>\n",
       "      <td>0</td>\n",
       "      <td>0</td>\n",
       "    </tr>\n",
       "    <tr>\n",
       "      <th>5</th>\n",
       "      <td>0</td>\n",
       "      <td>0</td>\n",
       "      <td>0</td>\n",
       "      <td>0</td>\n",
       "      <td>0</td>\n",
       "      <td>0</td>\n",
       "      <td>1</td>\n",
       "    </tr>\n",
       "    <tr>\n",
       "      <th>6</th>\n",
       "      <td>1</td>\n",
       "      <td>0</td>\n",
       "      <td>0</td>\n",
       "      <td>0</td>\n",
       "      <td>0</td>\n",
       "      <td>0</td>\n",
       "      <td>0</td>\n",
       "    </tr>\n",
       "    <tr>\n",
       "      <th>7</th>\n",
       "      <td>0</td>\n",
       "      <td>0</td>\n",
       "      <td>0</td>\n",
       "      <td>0</td>\n",
       "      <td>0</td>\n",
       "      <td>0</td>\n",
       "      <td>1</td>\n",
       "    </tr>\n",
       "    <tr>\n",
       "      <th>8</th>\n",
       "      <td>0</td>\n",
       "      <td>0</td>\n",
       "      <td>0</td>\n",
       "      <td>0</td>\n",
       "      <td>0</td>\n",
       "      <td>0</td>\n",
       "      <td>1</td>\n",
       "    </tr>\n",
       "    <tr>\n",
       "      <th>9</th>\n",
       "      <td>0</td>\n",
       "      <td>0</td>\n",
       "      <td>0</td>\n",
       "      <td>1</td>\n",
       "      <td>0</td>\n",
       "      <td>0</td>\n",
       "      <td>0</td>\n",
       "    </tr>\n",
       "    <tr>\n",
       "      <th>10</th>\n",
       "      <td>0</td>\n",
       "      <td>0</td>\n",
       "      <td>0</td>\n",
       "      <td>0</td>\n",
       "      <td>0</td>\n",
       "      <td>1</td>\n",
       "      <td>0</td>\n",
       "    </tr>\n",
       "    <tr>\n",
       "      <th>11</th>\n",
       "      <td>0</td>\n",
       "      <td>0</td>\n",
       "      <td>1</td>\n",
       "      <td>0</td>\n",
       "      <td>0</td>\n",
       "      <td>0</td>\n",
       "      <td>0</td>\n",
       "    </tr>\n",
       "    <tr>\n",
       "      <th>12</th>\n",
       "      <td>0</td>\n",
       "      <td>0</td>\n",
       "      <td>1</td>\n",
       "      <td>0</td>\n",
       "      <td>0</td>\n",
       "      <td>0</td>\n",
       "      <td>0</td>\n",
       "    </tr>\n",
       "    <tr>\n",
       "      <th>13</th>\n",
       "      <td>0</td>\n",
       "      <td>0</td>\n",
       "      <td>1</td>\n",
       "      <td>0</td>\n",
       "      <td>0</td>\n",
       "      <td>0</td>\n",
       "      <td>0</td>\n",
       "    </tr>\n",
       "    <tr>\n",
       "      <th>14</th>\n",
       "      <td>0</td>\n",
       "      <td>0</td>\n",
       "      <td>0</td>\n",
       "      <td>1</td>\n",
       "      <td>0</td>\n",
       "      <td>0</td>\n",
       "      <td>0</td>\n",
       "    </tr>\n",
       "  </tbody>\n",
       "</table>\n",
       "</div>"
      ],
      "text/plain": [
       "    Action  Bollywood  Comedy  Drama  Mysterious  Romantic  SciFi\n",
       "0        1          0       0      0           0         0      0\n",
       "1        0          0       0      0           1         0      0\n",
       "2        0          1       0      0           0         0      0\n",
       "3        0          0       0      0           0         1      0\n",
       "4        1          0       0      0           0         0      0\n",
       "5        0          0       0      0           0         0      1\n",
       "6        1          0       0      0           0         0      0\n",
       "7        0          0       0      0           0         0      1\n",
       "8        0          0       0      0           0         0      1\n",
       "9        0          0       0      1           0         0      0\n",
       "10       0          0       0      0           0         1      0\n",
       "11       0          0       1      0           0         0      0\n",
       "12       0          0       1      0           0         0      0\n",
       "13       0          0       1      0           0         0      0\n",
       "14       0          0       0      1           0         0      0"
      ]
     },
     "execution_count": 81,
     "metadata": {},
     "output_type": "execute_result"
    }
   ],
   "source": [
    "movies['GENRE'].str.get_dummies()"
   ]
  },
  {
   "cell_type": "code",
   "execution_count": 83,
   "id": "a7396cfa-8aa3-4913-9779-dde7db5b2a3f",
   "metadata": {},
   "outputs": [
    {
     "data": {
      "text/plain": [
       "0                            Bahubali\n",
       "1                      Brahmastr--+--\n",
       "2     URI-Th--+-- Surgical Strik--+--\n",
       "3                                DDLJ\n",
       "4       Av--+--ng--+--rs-End gam--+--\n",
       "5                       T--+--n--+--t\n",
       "6                               Major\n",
       "7            Int--+--rst--+--ll--+--r\n",
       "8                             Gravity\n",
       "9                             Titanic\n",
       "10      Y--+--h jawani hai d--+--wani\n",
       "11                       Hous--+--ful\n",
       "12                   Th--+-- Dictator\n",
       "13                 H--+--ra Sh--+--ri\n",
       "14                             Sholay\n",
       "Name: NAME , dtype: object"
      ]
     },
     "execution_count": 83,
     "metadata": {},
     "output_type": "execute_result"
    }
   ],
   "source": [
    "name.str.split('e').str.join('--+--')"
   ]
  },
  {
   "cell_type": "code",
   "execution_count": 82,
   "id": "16769dc4-7641-4219-9d6d-3a5c1bb2f351",
   "metadata": {},
   "outputs": [
    {
     "data": {
      "text/plain": [
       "0                                   B.a.h.u.b.a.l.i\n",
       "1                               B.r.a.h.m.a.s.t.r.e\n",
       "2     U.R.I.-.T.h.e. .S.u.r.g.i.c.a.l. .S.t.r.i.k.e\n",
       "3                                           D.D.L.J\n",
       "4                 A.v.e.n.g.e.r.s.-.E.n.d. .g.a.m.e\n",
       "5                                         T.e.n.e.t\n",
       "6                                         M.a.j.o.r\n",
       "7                           I.n.t.e.r.s.t.e.l.l.e.r\n",
       "8                                     G.r.a.v.i.t.y\n",
       "9                                     T.i.t.a.n.i.c\n",
       "10        Y.e.h. .j.a.w.a.n.i. .h.a.i. .d.e.w.a.n.i\n",
       "11                                  H.o.u.s.e.f.u.l\n",
       "12                          T.h.e. .D.i.c.t.a.t.o.r\n",
       "13                              H.e.r.a. .S.h.e.r.i\n",
       "14                                      S.h.o.l.a.y\n",
       "Name: NAME , dtype: object"
      ]
     },
     "execution_count": 82,
     "metadata": {},
     "output_type": "execute_result"
    }
   ],
   "source": [
    "name.str.join('.')"
   ]
  },
  {
   "cell_type": "code",
   "execution_count": 86,
   "id": "4b0646f6-b310-440c-aacc-81bf146e0cff",
   "metadata": {},
   "outputs": [
    {
     "data": {
      "text/plain": [
       "0                    BAHUBALI\n",
       "1                  BRAHMASTRE\n",
       "2     URI-THE SURGICAL STRIKE\n",
       "3                        DDLJ\n",
       "4           AVENGERS-END GAME\n",
       "5                       TENET\n",
       "6                       MAJOR\n",
       "7                INTERSTELLER\n",
       "8                     GRAVITY\n",
       "9                     TITANIC\n",
       "10      YEH JAWANI HAI DEWANI\n",
       "11                   HOUSEFUL\n",
       "12               THE DICTATOR\n",
       "13                 HERA SHERI\n",
       "14                     SHOLAY\n",
       "Name: NAME , dtype: object"
      ]
     },
     "execution_count": 86,
     "metadata": {},
     "output_type": "execute_result"
    }
   ],
   "source": [
    "name.str.upper()"
   ]
  },
  {
   "cell_type": "code",
   "execution_count": 87,
   "id": "994a87b2-82e9-49f7-9558-2d820014b2ed",
   "metadata": {},
   "outputs": [
    {
     "data": {
      "text/plain": [
       "0                    Bahubali\n",
       "1                  Brahmastre\n",
       "2     URI-The Surgical Strike\n",
       "3                        DDLJ\n",
       "4           Avengers-End game\n",
       "5                       Tenet\n",
       "6                       Major\n",
       "7                Intersteller\n",
       "8                     Gravity\n",
       "9                     Titanic\n",
       "10      Yeh jawani hai dewani\n",
       "11                   Houseful\n",
       "12               The Dictator\n",
       "13                 Hera Sheri\n",
       "14                     Sholay\n",
       "Name: NAME , dtype: object"
      ]
     },
     "execution_count": 87,
     "metadata": {},
     "output_type": "execute_result"
    }
   ],
   "source": [
    "name.str.strip()"
   ]
  },
  {
   "cell_type": "code",
   "execution_count": 88,
   "id": "7c7b9117-5b7c-4b3c-8ade-dfd4249c7b88",
   "metadata": {},
   "outputs": [
    {
     "data": {
      "text/plain": [
       "'SciFi'"
      ]
     },
     "execution_count": 88,
     "metadata": {},
     "output_type": "execute_result"
    }
   ],
   "source": [
    "movies['GENRE'][movies['NAME '].str.strip().str.lower()=='Intersteller'.lower()].values[0]"
   ]
  },
  {
   "cell_type": "markdown",
   "id": "2b63d53f-a879-41a0-805e-dd44a8d42f9a",
   "metadata": {},
   "source": [
    "7.what is the average duration of each genre"
   ]
  },
  {
   "cell_type": "code",
   "execution_count": 89,
   "id": "bf49dd64-ed6a-475e-9453-5a9061ce452f",
   "metadata": {},
   "outputs": [
    {
     "data": {
      "text/plain": [
       "array(['Action', 'Mysterious', 'Bollywood', 'Romantic', 'SciFi', 'Drama',\n",
       "       'Comedy'], dtype=object)"
      ]
     },
     "execution_count": 89,
     "metadata": {},
     "output_type": "execute_result"
    }
   ],
   "source": [
    "movies['GENRE'].unique()"
   ]
  },
  {
   "cell_type": "code",
   "execution_count": 90,
   "id": "d96252bc-6f08-44ba-aed0-d3c2893f1b2c",
   "metadata": {},
   "outputs": [
    {
     "data": {
      "text/plain": [
       "7"
      ]
     },
     "execution_count": 90,
     "metadata": {},
     "output_type": "execute_result"
    }
   ],
   "source": [
    "movies['GENRE'].nunique()"
   ]
  },
  {
   "cell_type": "code",
   "execution_count": 92,
   "id": "ba639e70-3696-4f90-ada9-2c3a79aae526",
   "metadata": {},
   "outputs": [
    {
     "data": {
      "text/plain": [
       "Action        3\n",
       "SciFi         3\n",
       "Comedy        3\n",
       "Romantic      2\n",
       "Drama         2\n",
       "Mysterious    1\n",
       "Bollywood     1\n",
       "Name: GENRE, dtype: int64"
      ]
     },
     "execution_count": 92,
     "metadata": {},
     "output_type": "execute_result"
    }
   ],
   "source": [
    "movies['GENRE'].value_counts()"
   ]
  },
  {
   "cell_type": "code",
   "execution_count": 99,
   "id": "5784b17a-0b52-4cd2-88bb-a3410c7203f6",
   "metadata": {},
   "outputs": [
    {
     "name": "stdout",
     "output_type": "stream",
     "text": [
      "Action 163.33333333333334\n",
      "Mysterious 180.0\n",
      "Bollywood 120.0\n",
      "Romantic 150.0\n",
      "SciFi 156.66666666666666\n",
      "Drama 165.0\n",
      "Comedy 136.66666666666666\n"
     ]
    }
   ],
   "source": [
    "for GENRE in movies['GENRE'].unique():\n",
    "    print(GENRE,movies[movies['GENRE']==GENRE]['DURATION'].mean())"
   ]
  },
  {
   "cell_type": "code",
   "execution_count": 100,
   "id": "1b89e8d3-5e91-4d3f-ba6d-6e890eddc0aa",
   "metadata": {},
   "outputs": [
    {
     "data": {
      "text/plain": [
       "GENRE\n",
       "Action        163.333333\n",
       "Bollywood     120.000000\n",
       "Comedy        136.666667\n",
       "Drama         165.000000\n",
       "Mysterious    180.000000\n",
       "Romantic      150.000000\n",
       "SciFi         156.666667\n",
       "Name: DURATION, dtype: float64"
      ]
     },
     "execution_count": 100,
     "metadata": {},
     "output_type": "execute_result"
    }
   ],
   "source": [
    "movies.groupby('GENRE')['DURATION'].mean()"
   ]
  },
  {
   "cell_type": "code",
   "execution_count": 102,
   "id": "5ec87b76-881f-4a91-83e9-8d87b69eaaae",
   "metadata": {},
   "outputs": [
    {
     "data": {
      "text/plain": [
       "GENRE       INDUSTRY \n",
       "Action      Bollywood    140.000000\n",
       "            Hollywood    180.000000\n",
       "            Tollywood    170.000000\n",
       "Bollywood   Bollywood    120.000000\n",
       "Comedy      Bollywood    145.000000\n",
       "            Hollywood    120.000000\n",
       "Drama       Bollywood    150.000000\n",
       "            Hollywood    180.000000\n",
       "Mysterious  Bollywood    180.000000\n",
       "Romantic    Bollywood    150.000000\n",
       "            Hollywood    150.000000\n",
       "SciFi       Hollywood    156.666667\n",
       "Name: DURATION, dtype: float64"
      ]
     },
     "execution_count": 102,
     "metadata": {},
     "output_type": "execute_result"
    }
   ],
   "source": [
    "movies.groupby(['GENRE','INDUSTRY'])['DURATION'].mean()"
   ]
  },
  {
   "cell_type": "code",
   "execution_count": 103,
   "id": "150ba458-9dd8-4a74-af34-246cf68e3ca5",
   "metadata": {},
   "outputs": [
    {
     "data": {
      "text/plain": [
       "INDUSTRY   GENRE     \n",
       "Bollywood  Action        140.000000\n",
       "           Bollywood     120.000000\n",
       "           Comedy        145.000000\n",
       "           Drama         150.000000\n",
       "           Mysterious    180.000000\n",
       "           Romantic      150.000000\n",
       "Hollywood  Action        180.000000\n",
       "           Comedy        120.000000\n",
       "           Drama         180.000000\n",
       "           Romantic      150.000000\n",
       "           SciFi         156.666667\n",
       "Tollywood  Action        170.000000\n",
       "Name: DURATION, dtype: float64"
      ]
     },
     "execution_count": 103,
     "metadata": {},
     "output_type": "execute_result"
    }
   ],
   "source": [
    "movies.groupby(['INDUSTRY','GENRE'])['DURATION'].mean()"
   ]
  },
  {
   "cell_type": "code",
   "execution_count": 105,
   "id": "46addc88-1a58-4e21-92c1-c53791d8d3d1",
   "metadata": {},
   "outputs": [
    {
     "data": {
      "text/html": [
       "<div>\n",
       "<style scoped>\n",
       "    .dataframe tbody tr th:only-of-type {\n",
       "        vertical-align: middle;\n",
       "    }\n",
       "\n",
       "    .dataframe tbody tr th {\n",
       "        vertical-align: top;\n",
       "    }\n",
       "\n",
       "    .dataframe thead th {\n",
       "        text-align: right;\n",
       "    }\n",
       "</style>\n",
       "<table border=\"1\" class=\"dataframe\">\n",
       "  <thead>\n",
       "    <tr style=\"text-align: right;\">\n",
       "      <th></th>\n",
       "      <th>ID</th>\n",
       "      <th>DURATION</th>\n",
       "      <th>RATING</th>\n",
       "      <th>Unnamed: 7</th>\n",
       "    </tr>\n",
       "  </thead>\n",
       "  <tbody>\n",
       "    <tr>\n",
       "      <th>count</th>\n",
       "      <td>15.000000</td>\n",
       "      <td>15.000000</td>\n",
       "      <td>15.000000</td>\n",
       "      <td>0.0</td>\n",
       "    </tr>\n",
       "    <tr>\n",
       "      <th>mean</th>\n",
       "      <td>8.000000</td>\n",
       "      <td>153.333333</td>\n",
       "      <td>7.833333</td>\n",
       "      <td>NaN</td>\n",
       "    </tr>\n",
       "    <tr>\n",
       "      <th>std</th>\n",
       "      <td>4.472136</td>\n",
       "      <td>22.253946</td>\n",
       "      <td>1.718249</td>\n",
       "      <td>NaN</td>\n",
       "    </tr>\n",
       "    <tr>\n",
       "      <th>min</th>\n",
       "      <td>1.000000</td>\n",
       "      <td>120.000000</td>\n",
       "      <td>5.000000</td>\n",
       "      <td>NaN</td>\n",
       "    </tr>\n",
       "    <tr>\n",
       "      <th>25%</th>\n",
       "      <td>4.500000</td>\n",
       "      <td>140.000000</td>\n",
       "      <td>6.500000</td>\n",
       "      <td>NaN</td>\n",
       "    </tr>\n",
       "    <tr>\n",
       "      <th>50%</th>\n",
       "      <td>8.000000</td>\n",
       "      <td>150.000000</td>\n",
       "      <td>8.500000</td>\n",
       "      <td>NaN</td>\n",
       "    </tr>\n",
       "    <tr>\n",
       "      <th>75%</th>\n",
       "      <td>11.500000</td>\n",
       "      <td>175.000000</td>\n",
       "      <td>9.000000</td>\n",
       "      <td>NaN</td>\n",
       "    </tr>\n",
       "    <tr>\n",
       "      <th>max</th>\n",
       "      <td>15.000000</td>\n",
       "      <td>190.000000</td>\n",
       "      <td>10.000000</td>\n",
       "      <td>NaN</td>\n",
       "    </tr>\n",
       "  </tbody>\n",
       "</table>\n",
       "</div>"
      ],
      "text/plain": [
       "              ID    DURATION     RATING  Unnamed: 7\n",
       "count  15.000000   15.000000  15.000000         0.0\n",
       "mean    8.000000  153.333333   7.833333         NaN\n",
       "std     4.472136   22.253946   1.718249         NaN\n",
       "min     1.000000  120.000000   5.000000         NaN\n",
       "25%     4.500000  140.000000   6.500000         NaN\n",
       "50%     8.000000  150.000000   8.500000         NaN\n",
       "75%    11.500000  175.000000   9.000000         NaN\n",
       "max    15.000000  190.000000  10.000000         NaN"
      ]
     },
     "execution_count": 105,
     "metadata": {},
     "output_type": "execute_result"
    }
   ],
   "source": [
    "movies.describe()"
   ]
  },
  {
   "cell_type": "code",
   "execution_count": null,
   "id": "1042d522-9232-4834-8a10-c93508356dd2",
   "metadata": {},
   "outputs": [],
   "source": []
  },
  {
   "cell_type": "code",
   "execution_count": 128,
   "id": "ae2f2527-c50c-4aa3-bca1-2e14b653c2fe",
   "metadata": {},
   "outputs": [
    {
     "data": {
      "text/html": [
       "<div>\n",
       "<style scoped>\n",
       "    .dataframe tbody tr th:only-of-type {\n",
       "        vertical-align: middle;\n",
       "    }\n",
       "\n",
       "    .dataframe tbody tr th {\n",
       "        vertical-align: top;\n",
       "    }\n",
       "\n",
       "    .dataframe thead th {\n",
       "        text-align: right;\n",
       "    }\n",
       "</style>\n",
       "<table border=\"1\" class=\"dataframe\">\n",
       "  <thead>\n",
       "    <tr style=\"text-align: right;\">\n",
       "      <th></th>\n",
       "      <th>NAME</th>\n",
       "      <th>INDUSTRY</th>\n",
       "      <th>GENRE</th>\n",
       "      <th>LANGUAGE</th>\n",
       "      <th>DURATION</th>\n",
       "      <th>RATING</th>\n",
       "      <th>Unnamed: 7</th>\n",
       "    </tr>\n",
       "  </thead>\n",
       "  <tbody>\n",
       "    <tr>\n",
       "      <th>0</th>\n",
       "      <td>Bahubali</td>\n",
       "      <td>Tollywood</td>\n",
       "      <td>Action</td>\n",
       "      <td>Telugu</td>\n",
       "      <td>170</td>\n",
       "      <td>9.5</td>\n",
       "      <td>NaN</td>\n",
       "    </tr>\n",
       "    <tr>\n",
       "      <th>1</th>\n",
       "      <td>Brahmastre</td>\n",
       "      <td>Bollywood</td>\n",
       "      <td>Mysterious</td>\n",
       "      <td>Hindi</td>\n",
       "      <td>180</td>\n",
       "      <td>5.0</td>\n",
       "      <td>NaN</td>\n",
       "    </tr>\n",
       "    <tr>\n",
       "      <th>2</th>\n",
       "      <td>URI-The Surgical Strike</td>\n",
       "      <td>Bollywood</td>\n",
       "      <td>Bollywood</td>\n",
       "      <td>Hindi</td>\n",
       "      <td>120</td>\n",
       "      <td>10.0</td>\n",
       "      <td>NaN</td>\n",
       "    </tr>\n",
       "    <tr>\n",
       "      <th>3</th>\n",
       "      <td>DDLJ</td>\n",
       "      <td>Bollywood</td>\n",
       "      <td>Romantic</td>\n",
       "      <td>Hindi</td>\n",
       "      <td>150</td>\n",
       "      <td>10.0</td>\n",
       "      <td>NaN</td>\n",
       "    </tr>\n",
       "    <tr>\n",
       "      <th>4</th>\n",
       "      <td>Avengers-End game</td>\n",
       "      <td>Hollywood</td>\n",
       "      <td>Action</td>\n",
       "      <td>English</td>\n",
       "      <td>180</td>\n",
       "      <td>9.0</td>\n",
       "      <td>NaN</td>\n",
       "    </tr>\n",
       "    <tr>\n",
       "      <th>5</th>\n",
       "      <td>Tenet</td>\n",
       "      <td>Hollywood</td>\n",
       "      <td>SciFi</td>\n",
       "      <td>English</td>\n",
       "      <td>150</td>\n",
       "      <td>8.5</td>\n",
       "      <td>NaN</td>\n",
       "    </tr>\n",
       "    <tr>\n",
       "      <th>6</th>\n",
       "      <td>Major</td>\n",
       "      <td>Bollywood</td>\n",
       "      <td>Action</td>\n",
       "      <td>Hindi</td>\n",
       "      <td>140</td>\n",
       "      <td>8.0</td>\n",
       "      <td>NaN</td>\n",
       "    </tr>\n",
       "    <tr>\n",
       "      <th>7</th>\n",
       "      <td>Intersteller</td>\n",
       "      <td>Hollywood</td>\n",
       "      <td>SciFi</td>\n",
       "      <td>English</td>\n",
       "      <td>190</td>\n",
       "      <td>7.0</td>\n",
       "      <td>NaN</td>\n",
       "    </tr>\n",
       "    <tr>\n",
       "      <th>8</th>\n",
       "      <td>Gravity</td>\n",
       "      <td>Hollywood</td>\n",
       "      <td>SciFi</td>\n",
       "      <td>English</td>\n",
       "      <td>130</td>\n",
       "      <td>6.0</td>\n",
       "      <td>NaN</td>\n",
       "    </tr>\n",
       "    <tr>\n",
       "      <th>9</th>\n",
       "      <td>Titanic</td>\n",
       "      <td>Hollywood</td>\n",
       "      <td>Drama</td>\n",
       "      <td>English</td>\n",
       "      <td>180</td>\n",
       "      <td>9.0</td>\n",
       "      <td>NaN</td>\n",
       "    </tr>\n",
       "    <tr>\n",
       "      <th>10</th>\n",
       "      <td>Yeh jawani hai dewani</td>\n",
       "      <td>Hollywood</td>\n",
       "      <td>Romantic</td>\n",
       "      <td>Hindi</td>\n",
       "      <td>150</td>\n",
       "      <td>5.0</td>\n",
       "      <td>NaN</td>\n",
       "    </tr>\n",
       "    <tr>\n",
       "      <th>11</th>\n",
       "      <td>Houseful</td>\n",
       "      <td>Bollywood</td>\n",
       "      <td>Comedy</td>\n",
       "      <td>Hindi</td>\n",
       "      <td>150</td>\n",
       "      <td>6.0</td>\n",
       "      <td>NaN</td>\n",
       "    </tr>\n",
       "    <tr>\n",
       "      <th>12</th>\n",
       "      <td>The Dictator</td>\n",
       "      <td>Hollywood</td>\n",
       "      <td>Comedy</td>\n",
       "      <td>English</td>\n",
       "      <td>120</td>\n",
       "      <td>7.0</td>\n",
       "      <td>NaN</td>\n",
       "    </tr>\n",
       "    <tr>\n",
       "      <th>13</th>\n",
       "      <td>Hera Sheri</td>\n",
       "      <td>Bollywood</td>\n",
       "      <td>Comedy</td>\n",
       "      <td>Hindi</td>\n",
       "      <td>140</td>\n",
       "      <td>9.0</td>\n",
       "      <td>NaN</td>\n",
       "    </tr>\n",
       "    <tr>\n",
       "      <th>14</th>\n",
       "      <td>Sholay</td>\n",
       "      <td>Bollywood</td>\n",
       "      <td>Drama</td>\n",
       "      <td>Hindi</td>\n",
       "      <td>150</td>\n",
       "      <td>8.5</td>\n",
       "      <td>NaN</td>\n",
       "    </tr>\n",
       "  </tbody>\n",
       "</table>\n",
       "</div>"
      ],
      "text/plain": [
       "                      NAME    INDUSTRY       GENRE LANGUAGE  DURATION  RATING  \\\n",
       "0                  Bahubali  Tollywood      Action   Telugu       170     9.5   \n",
       "1                Brahmastre  Bollywood  Mysterious    Hindi       180     5.0   \n",
       "2   URI-The Surgical Strike  Bollywood   Bollywood    Hindi       120    10.0   \n",
       "3                      DDLJ  Bollywood    Romantic    Hindi       150    10.0   \n",
       "4         Avengers-End game  Hollywood      Action  English       180     9.0   \n",
       "5                     Tenet  Hollywood       SciFi  English       150     8.5   \n",
       "6                     Major  Bollywood      Action    Hindi       140     8.0   \n",
       "7              Intersteller  Hollywood       SciFi  English       190     7.0   \n",
       "8                   Gravity  Hollywood       SciFi  English       130     6.0   \n",
       "9                   Titanic  Hollywood       Drama  English       180     9.0   \n",
       "10    Yeh jawani hai dewani  Hollywood    Romantic    Hindi       150     5.0   \n",
       "11                 Houseful  Bollywood      Comedy    Hindi       150     6.0   \n",
       "12             The Dictator  Hollywood      Comedy  English       120     7.0   \n",
       "13               Hera Sheri  Bollywood      Comedy    Hindi       140     9.0   \n",
       "14                   Sholay  Bollywood       Drama    Hindi       150     8.5   \n",
       "\n",
       "    Unnamed: 7  \n",
       "0          NaN  \n",
       "1          NaN  \n",
       "2          NaN  \n",
       "3          NaN  \n",
       "4          NaN  \n",
       "5          NaN  \n",
       "6          NaN  \n",
       "7          NaN  \n",
       "8          NaN  \n",
       "9          NaN  \n",
       "10         NaN  \n",
       "11         NaN  \n",
       "12         NaN  \n",
       "13         NaN  \n",
       "14         NaN  "
      ]
     },
     "execution_count": 128,
     "metadata": {},
     "output_type": "execute_result"
    }
   ],
   "source": [
    "movies\n"
   ]
  },
  {
   "cell_type": "code",
   "execution_count": 123,
   "id": "d39823a6-77cb-4ee4-bdda-0335574e8d0f",
   "metadata": {},
   "outputs": [
    {
     "name": "stdout",
     "output_type": "stream",
     "text": [
      "<class 'pandas.core.frame.DataFrame'>\n",
      "RangeIndex: 15 entries, 0 to 14\n",
      "Data columns (total 7 columns):\n",
      " #   Column      Non-Null Count  Dtype  \n",
      "---  ------      --------------  -----  \n",
      " 0   NAME        15 non-null     object \n",
      " 1   INDUSTRY    15 non-null     object \n",
      " 2   GENRE       15 non-null     object \n",
      " 3   LANGUAGE    15 non-null     object \n",
      " 4   DURATION    15 non-null     int64  \n",
      " 5   RATING      15 non-null     float64\n",
      " 6   Unnamed: 7  0 non-null      float64\n",
      "dtypes: float64(2), int64(1), object(4)\n",
      "memory usage: 968.0+ bytes\n"
     ]
    }
   ],
   "source": [
    "movies.info()"
   ]
  },
  {
   "cell_type": "code",
   "execution_count": 127,
   "id": "da12ac0c-2c00-43ff-94c0-cebda4bb6084",
   "metadata": {},
   "outputs": [
    {
     "data": {
      "text/html": [
       "<div>\n",
       "<style scoped>\n",
       "    .dataframe tbody tr th:only-of-type {\n",
       "        vertical-align: middle;\n",
       "    }\n",
       "\n",
       "    .dataframe tbody tr th {\n",
       "        vertical-align: top;\n",
       "    }\n",
       "\n",
       "    .dataframe thead th {\n",
       "        text-align: right;\n",
       "    }\n",
       "</style>\n",
       "<table border=\"1\" class=\"dataframe\">\n",
       "  <thead>\n",
       "    <tr style=\"text-align: right;\">\n",
       "      <th></th>\n",
       "      <th>NAME</th>\n",
       "      <th>INDUSTRY</th>\n",
       "      <th>GENRE</th>\n",
       "      <th>LANGUAGE</th>\n",
       "      <th>DURATION</th>\n",
       "      <th>RATING</th>\n",
       "      <th>Unnamed: 7</th>\n",
       "    </tr>\n",
       "  </thead>\n",
       "  <tbody>\n",
       "    <tr>\n",
       "      <th>count</th>\n",
       "      <td>15</td>\n",
       "      <td>15</td>\n",
       "      <td>15</td>\n",
       "      <td>15</td>\n",
       "      <td>15.000000</td>\n",
       "      <td>15.000000</td>\n",
       "      <td>0.0</td>\n",
       "    </tr>\n",
       "    <tr>\n",
       "      <th>unique</th>\n",
       "      <td>15</td>\n",
       "      <td>3</td>\n",
       "      <td>7</td>\n",
       "      <td>3</td>\n",
       "      <td>NaN</td>\n",
       "      <td>NaN</td>\n",
       "      <td>NaN</td>\n",
       "    </tr>\n",
       "    <tr>\n",
       "      <th>top</th>\n",
       "      <td>Bahubali</td>\n",
       "      <td>Bollywood</td>\n",
       "      <td>Action</td>\n",
       "      <td>Hindi</td>\n",
       "      <td>NaN</td>\n",
       "      <td>NaN</td>\n",
       "      <td>NaN</td>\n",
       "    </tr>\n",
       "    <tr>\n",
       "      <th>freq</th>\n",
       "      <td>1</td>\n",
       "      <td>7</td>\n",
       "      <td>3</td>\n",
       "      <td>8</td>\n",
       "      <td>NaN</td>\n",
       "      <td>NaN</td>\n",
       "      <td>NaN</td>\n",
       "    </tr>\n",
       "    <tr>\n",
       "      <th>mean</th>\n",
       "      <td>NaN</td>\n",
       "      <td>NaN</td>\n",
       "      <td>NaN</td>\n",
       "      <td>NaN</td>\n",
       "      <td>153.333333</td>\n",
       "      <td>7.833333</td>\n",
       "      <td>NaN</td>\n",
       "    </tr>\n",
       "    <tr>\n",
       "      <th>std</th>\n",
       "      <td>NaN</td>\n",
       "      <td>NaN</td>\n",
       "      <td>NaN</td>\n",
       "      <td>NaN</td>\n",
       "      <td>22.253946</td>\n",
       "      <td>1.718249</td>\n",
       "      <td>NaN</td>\n",
       "    </tr>\n",
       "    <tr>\n",
       "      <th>min</th>\n",
       "      <td>NaN</td>\n",
       "      <td>NaN</td>\n",
       "      <td>NaN</td>\n",
       "      <td>NaN</td>\n",
       "      <td>120.000000</td>\n",
       "      <td>5.000000</td>\n",
       "      <td>NaN</td>\n",
       "    </tr>\n",
       "    <tr>\n",
       "      <th>25%</th>\n",
       "      <td>NaN</td>\n",
       "      <td>NaN</td>\n",
       "      <td>NaN</td>\n",
       "      <td>NaN</td>\n",
       "      <td>140.000000</td>\n",
       "      <td>6.500000</td>\n",
       "      <td>NaN</td>\n",
       "    </tr>\n",
       "    <tr>\n",
       "      <th>50%</th>\n",
       "      <td>NaN</td>\n",
       "      <td>NaN</td>\n",
       "      <td>NaN</td>\n",
       "      <td>NaN</td>\n",
       "      <td>150.000000</td>\n",
       "      <td>8.500000</td>\n",
       "      <td>NaN</td>\n",
       "    </tr>\n",
       "    <tr>\n",
       "      <th>75%</th>\n",
       "      <td>NaN</td>\n",
       "      <td>NaN</td>\n",
       "      <td>NaN</td>\n",
       "      <td>NaN</td>\n",
       "      <td>175.000000</td>\n",
       "      <td>9.000000</td>\n",
       "      <td>NaN</td>\n",
       "    </tr>\n",
       "    <tr>\n",
       "      <th>max</th>\n",
       "      <td>NaN</td>\n",
       "      <td>NaN</td>\n",
       "      <td>NaN</td>\n",
       "      <td>NaN</td>\n",
       "      <td>190.000000</td>\n",
       "      <td>10.000000</td>\n",
       "      <td>NaN</td>\n",
       "    </tr>\n",
       "  </tbody>\n",
       "</table>\n",
       "</div>"
      ],
      "text/plain": [
       "           NAME    INDUSTRY   GENRE LANGUAGE    DURATION     RATING  \\\n",
       "count         15         15      15       15   15.000000  15.000000   \n",
       "unique        15          3       7        3         NaN        NaN   \n",
       "top     Bahubali  Bollywood  Action    Hindi         NaN        NaN   \n",
       "freq           1          7       3        8         NaN        NaN   \n",
       "mean         NaN        NaN     NaN      NaN  153.333333   7.833333   \n",
       "std          NaN        NaN     NaN      NaN   22.253946   1.718249   \n",
       "min          NaN        NaN     NaN      NaN  120.000000   5.000000   \n",
       "25%          NaN        NaN     NaN      NaN  140.000000   6.500000   \n",
       "50%          NaN        NaN     NaN      NaN  150.000000   8.500000   \n",
       "75%          NaN        NaN     NaN      NaN  175.000000   9.000000   \n",
       "max          NaN        NaN     NaN      NaN  190.000000  10.000000   \n",
       "\n",
       "        Unnamed: 7  \n",
       "count          0.0  \n",
       "unique         NaN  \n",
       "top            NaN  \n",
       "freq           NaN  \n",
       "mean           NaN  \n",
       "std            NaN  \n",
       "min            NaN  \n",
       "25%            NaN  \n",
       "50%            NaN  \n",
       "75%            NaN  \n",
       "max            NaN  "
      ]
     },
     "execution_count": 127,
     "metadata": {},
     "output_type": "execute_result"
    }
   ],
   "source": [
    "movies.describe(include='all')"
   ]
  },
  {
   "cell_type": "code",
   "execution_count": 131,
   "id": "35dbe64c-bf71-4f2d-9659-816ee71ec2e4",
   "metadata": {},
   "outputs": [
    {
     "data": {
      "text/html": [
       "<div>\n",
       "<style scoped>\n",
       "    .dataframe tbody tr th:only-of-type {\n",
       "        vertical-align: middle;\n",
       "    }\n",
       "\n",
       "    .dataframe tbody tr th {\n",
       "        vertical-align: top;\n",
       "    }\n",
       "\n",
       "    .dataframe thead th {\n",
       "        text-align: right;\n",
       "    }\n",
       "</style>\n",
       "<table border=\"1\" class=\"dataframe\">\n",
       "  <thead>\n",
       "    <tr style=\"text-align: right;\">\n",
       "      <th></th>\n",
       "      <th>INDUSTRY</th>\n",
       "      <th>Bollywood</th>\n",
       "      <th>Hollywood</th>\n",
       "      <th>Tollywood</th>\n",
       "    </tr>\n",
       "  </thead>\n",
       "  <tbody>\n",
       "    <tr>\n",
       "      <th rowspan=\"8\" valign=\"top\">DURATION</th>\n",
       "      <th>count</th>\n",
       "      <td>7.000000</td>\n",
       "      <td>7.000000</td>\n",
       "      <td>1.0</td>\n",
       "    </tr>\n",
       "    <tr>\n",
       "      <th>mean</th>\n",
       "      <td>147.142857</td>\n",
       "      <td>157.142857</td>\n",
       "      <td>170.0</td>\n",
       "    </tr>\n",
       "    <tr>\n",
       "      <th>std</th>\n",
       "      <td>17.994708</td>\n",
       "      <td>26.903708</td>\n",
       "      <td>NaN</td>\n",
       "    </tr>\n",
       "    <tr>\n",
       "      <th>min</th>\n",
       "      <td>120.000000</td>\n",
       "      <td>120.000000</td>\n",
       "      <td>170.0</td>\n",
       "    </tr>\n",
       "    <tr>\n",
       "      <th>25%</th>\n",
       "      <td>140.000000</td>\n",
       "      <td>140.000000</td>\n",
       "      <td>170.0</td>\n",
       "    </tr>\n",
       "    <tr>\n",
       "      <th>50%</th>\n",
       "      <td>150.000000</td>\n",
       "      <td>150.000000</td>\n",
       "      <td>170.0</td>\n",
       "    </tr>\n",
       "    <tr>\n",
       "      <th>75%</th>\n",
       "      <td>150.000000</td>\n",
       "      <td>180.000000</td>\n",
       "      <td>170.0</td>\n",
       "    </tr>\n",
       "    <tr>\n",
       "      <th>max</th>\n",
       "      <td>180.000000</td>\n",
       "      <td>190.000000</td>\n",
       "      <td>170.0</td>\n",
       "    </tr>\n",
       "    <tr>\n",
       "      <th rowspan=\"8\" valign=\"top\">RATING</th>\n",
       "      <th>count</th>\n",
       "      <td>7.000000</td>\n",
       "      <td>7.000000</td>\n",
       "      <td>1.0</td>\n",
       "    </tr>\n",
       "    <tr>\n",
       "      <th>mean</th>\n",
       "      <td>8.071429</td>\n",
       "      <td>7.357143</td>\n",
       "      <td>9.5</td>\n",
       "    </tr>\n",
       "    <tr>\n",
       "      <th>std</th>\n",
       "      <td>1.924157</td>\n",
       "      <td>1.546886</td>\n",
       "      <td>NaN</td>\n",
       "    </tr>\n",
       "    <tr>\n",
       "      <th>min</th>\n",
       "      <td>5.000000</td>\n",
       "      <td>5.000000</td>\n",
       "      <td>9.5</td>\n",
       "    </tr>\n",
       "    <tr>\n",
       "      <th>25%</th>\n",
       "      <td>7.000000</td>\n",
       "      <td>6.500000</td>\n",
       "      <td>9.5</td>\n",
       "    </tr>\n",
       "    <tr>\n",
       "      <th>50%</th>\n",
       "      <td>8.500000</td>\n",
       "      <td>7.000000</td>\n",
       "      <td>9.5</td>\n",
       "    </tr>\n",
       "    <tr>\n",
       "      <th>75%</th>\n",
       "      <td>9.500000</td>\n",
       "      <td>8.750000</td>\n",
       "      <td>9.5</td>\n",
       "    </tr>\n",
       "    <tr>\n",
       "      <th>max</th>\n",
       "      <td>10.000000</td>\n",
       "      <td>9.000000</td>\n",
       "      <td>9.5</td>\n",
       "    </tr>\n",
       "    <tr>\n",
       "      <th rowspan=\"8\" valign=\"top\">Unnamed: 7</th>\n",
       "      <th>count</th>\n",
       "      <td>0.000000</td>\n",
       "      <td>0.000000</td>\n",
       "      <td>0.0</td>\n",
       "    </tr>\n",
       "    <tr>\n",
       "      <th>mean</th>\n",
       "      <td>NaN</td>\n",
       "      <td>NaN</td>\n",
       "      <td>NaN</td>\n",
       "    </tr>\n",
       "    <tr>\n",
       "      <th>std</th>\n",
       "      <td>NaN</td>\n",
       "      <td>NaN</td>\n",
       "      <td>NaN</td>\n",
       "    </tr>\n",
       "    <tr>\n",
       "      <th>min</th>\n",
       "      <td>NaN</td>\n",
       "      <td>NaN</td>\n",
       "      <td>NaN</td>\n",
       "    </tr>\n",
       "    <tr>\n",
       "      <th>25%</th>\n",
       "      <td>NaN</td>\n",
       "      <td>NaN</td>\n",
       "      <td>NaN</td>\n",
       "    </tr>\n",
       "    <tr>\n",
       "      <th>50%</th>\n",
       "      <td>NaN</td>\n",
       "      <td>NaN</td>\n",
       "      <td>NaN</td>\n",
       "    </tr>\n",
       "    <tr>\n",
       "      <th>75%</th>\n",
       "      <td>NaN</td>\n",
       "      <td>NaN</td>\n",
       "      <td>NaN</td>\n",
       "    </tr>\n",
       "    <tr>\n",
       "      <th>max</th>\n",
       "      <td>NaN</td>\n",
       "      <td>NaN</td>\n",
       "      <td>NaN</td>\n",
       "    </tr>\n",
       "  </tbody>\n",
       "</table>\n",
       "</div>"
      ],
      "text/plain": [
       "INDUSTRY           Bollywood   Hollywood  Tollywood\n",
       "DURATION   count    7.000000    7.000000        1.0\n",
       "           mean   147.142857  157.142857      170.0\n",
       "           std     17.994708   26.903708        NaN\n",
       "           min    120.000000  120.000000      170.0\n",
       "           25%    140.000000  140.000000      170.0\n",
       "           50%    150.000000  150.000000      170.0\n",
       "           75%    150.000000  180.000000      170.0\n",
       "           max    180.000000  190.000000      170.0\n",
       "RATING     count    7.000000    7.000000        1.0\n",
       "           mean     8.071429    7.357143        9.5\n",
       "           std      1.924157    1.546886        NaN\n",
       "           min      5.000000    5.000000        9.5\n",
       "           25%      7.000000    6.500000        9.5\n",
       "           50%      8.500000    7.000000        9.5\n",
       "           75%      9.500000    8.750000        9.5\n",
       "           max     10.000000    9.000000        9.5\n",
       "Unnamed: 7 count    0.000000    0.000000        0.0\n",
       "           mean          NaN         NaN        NaN\n",
       "           std           NaN         NaN        NaN\n",
       "           min           NaN         NaN        NaN\n",
       "           25%           NaN         NaN        NaN\n",
       "           50%           NaN         NaN        NaN\n",
       "           75%           NaN         NaN        NaN\n",
       "           max           NaN         NaN        NaN"
      ]
     },
     "execution_count": 131,
     "metadata": {},
     "output_type": "execute_result"
    }
   ],
   "source": [
    "movies.groupby('INDUSTRY').describe().T"
   ]
  },
  {
   "cell_type": "markdown",
   "id": "2b3e2e01-fa9f-4e8a-b53c-01d27eb04e46",
   "metadata": {},
   "source": [
    "8.Average Rating each industry"
   ]
  },
  {
   "cell_type": "code",
   "execution_count": 132,
   "id": "c38e228d-388c-4a21-90d4-da4ddfbf2c6c",
   "metadata": {},
   "outputs": [
    {
     "data": {
      "text/plain": [
       "INDUSTRY\n",
       "Bollywood    8.071429\n",
       "Hollywood    7.357143\n",
       "Tollywood    9.500000\n",
       "Name: RATING, dtype: float64"
      ]
     },
     "execution_count": 132,
     "metadata": {},
     "output_type": "execute_result"
    }
   ],
   "source": [
    "movies.groupby('INDUSTRY')['RATING'].mean()"
   ]
  },
  {
   "cell_type": "markdown",
   "id": "72366004-b6df-4dca-a35d-212c3aa79ebb",
   "metadata": {},
   "source": [
    "9.average rating of romantic movies industry wise"
   ]
  },
  {
   "cell_type": "code",
   "execution_count": 135,
   "id": "7b3b4846-a35e-4570-8647-d37a03bd562b",
   "metadata": {},
   "outputs": [
    {
     "ename": "SyntaxError",
     "evalue": "invalid syntax (4142242866.py, line 1)",
     "output_type": "error",
     "traceback": [
      "\u001b[0;36m  Input \u001b[0;32mIn [135]\u001b[0;36m\u001b[0m\n\u001b[0;31m    movies[movies['GENRE']str.lower()=='Romantic'].groupby('INDUSTRY')['RATING'].mean()\u001b[0m\n\u001b[0m                          ^\u001b[0m\n\u001b[0;31mSyntaxError\u001b[0m\u001b[0;31m:\u001b[0m invalid syntax\n"
     ]
    }
   ],
   "source": [
    "movies[movies['GENRE']str.lower()=='Romantic'].groupby('INDUSTRY')['RATING'].mean()"
   ]
  },
  {
   "cell_type": "markdown",
   "id": "272bdc93-fcee-4792-a7dc-56425cfb2599",
   "metadata": {},
   "source": [
    "10.List down all the english movies with their respective ratings in descending order"
   ]
  },
  {
   "cell_type": "code",
   "execution_count": 137,
   "id": "2cd09a7a-a791-4116-81c2-b80c4e9821d9",
   "metadata": {},
   "outputs": [
    {
     "data": {
      "text/html": [
       "<div>\n",
       "<style scoped>\n",
       "    .dataframe tbody tr th:only-of-type {\n",
       "        vertical-align: middle;\n",
       "    }\n",
       "\n",
       "    .dataframe tbody tr th {\n",
       "        vertical-align: top;\n",
       "    }\n",
       "\n",
       "    .dataframe thead th {\n",
       "        text-align: right;\n",
       "    }\n",
       "</style>\n",
       "<table border=\"1\" class=\"dataframe\">\n",
       "  <thead>\n",
       "    <tr style=\"text-align: right;\">\n",
       "      <th></th>\n",
       "      <th>NAME</th>\n",
       "      <th>RATING</th>\n",
       "    </tr>\n",
       "  </thead>\n",
       "  <tbody>\n",
       "  </tbody>\n",
       "</table>\n",
       "</div>"
      ],
      "text/plain": [
       "Empty DataFrame\n",
       "Columns: [NAME , RATING]\n",
       "Index: []"
      ]
     },
     "execution_count": 137,
     "metadata": {},
     "output_type": "execute_result"
    }
   ],
   "source": [
    "movies[movies['LANGUAGE'].str.lower()=='English'][['NAME ','RATING']].sort_values(by='RATING',ascending=False)"
   ]
  },
  {
   "cell_type": "code",
   "execution_count": null,
   "id": "faf179d4-8668-4be4-9792-07f8f9a69911",
   "metadata": {},
   "outputs": [],
   "source": []
  }
 ],
 "metadata": {
  "kernelspec": {
   "display_name": "Python 3 (ipykernel)",
   "language": "python",
   "name": "python3"
  },
  "language_info": {
   "codemirror_mode": {
    "name": "ipython",
    "version": 3
   },
   "file_extension": ".py",
   "mimetype": "text/x-python",
   "name": "python",
   "nbconvert_exporter": "python",
   "pygments_lexer": "ipython3",
   "version": "3.9.12"
  }
 },
 "nbformat": 4,
 "nbformat_minor": 5
}
