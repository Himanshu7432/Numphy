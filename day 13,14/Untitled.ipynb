{
 "cells": [
  {
   "cell_type": "code",
   "execution_count": null,
   "id": "96511d5d-265d-4849-933e-320f977f0471",
   "metadata": {},
   "outputs": [],
   "source": [
    "import pandas as pd"
   ]
  },
  {
   "cell_type": "code",
   "execution_count": null,
   "id": "d46aefde-7423-445c-b9f8-3ad95eafb748",
   "metadata": {},
   "outputs": [],
   "source": [
    "Data Analysis\n",
    "1.Description\n",
    "2.Diagnosis\n",
    "3.Prediction\n",
    "4.Actions/Prescription"
   ]
  },
  {
   "cell_type": "code",
   "execution_count": null,
   "id": "c76b2f95-e2d8-4479-b588-82d2552a0bac",
   "metadata": {},
   "outputs": [],
   "source": [
    "#The column names\n",
    "cols = ['user_id','movie_id','rating','ts']"
   ]
  },
  {
   "cell_type": "code",
   "execution_count": null,
   "id": "2daafbd4-8c76-420c-8b3b-9abd94a3911d",
   "metadata": {},
   "outputs": [],
   "source": [
    "#Read the file\n",
    "df=pd.read_csv('u.data', sep='\\t', names=cols)\n"
   ]
  },
  {
   "cell_type": "code",
   "execution_count": null,
   "id": "38dcb381-5764-400d-8fa1-11d6d077a4c7",
   "metadata": {},
   "outputs": [],
   "source": [
    "a = [4,8,2,7,9]"
   ]
  },
  {
   "cell_type": "code",
   "execution_count": null,
   "id": "7667f637-dfb5-4ddb-bbb2-948c8f383527",
   "metadata": {},
   "outputs": [],
   "source": [
    "#b=[8,16,4,14,18]\n",
    "\n",
    "b=[]\n",
    "for i in a:\n",
    "    b.append(i*2)\n",
    "b    "
   ]
  },
  {
   "cell_type": "code",
   "execution_count": null,
   "id": "d1275659-fdbb-4dea-ad86-936c2325efa5",
   "metadata": {},
   "outputs": [],
   "source": [
    "b=[i+2 for i in a]\n",
    "b"
   ]
  },
  {
   "cell_type": "code",
   "execution_count": null,
   "id": "2c209d08-a47c-44a3-bfe9-b70a5dd74720",
   "metadata": {},
   "outputs": [],
   "source": [
    "#Read the other file\n",
    "df1 = pd.read_csv('u.item',sep='|',names = item_cols,\n",
    "                  encoding = \"ISO-8859-1\")"
   ]
  },
  {
   "cell_type": "code",
   "execution_count": null,
   "id": "73d87465-3d05-48c7-8a81-0adc7a4fe66f",
   "metadata": {},
   "outputs": [],
   "source": [
    "df1.shape"
   ]
  },
  {
   "cell_type": "code",
   "execution_count": null,
   "id": "77487f09-986f-4785-a986-151c3f040931",
   "metadata": {},
   "outputs": [],
   "source": [
    "item_cols = ['movie-id','title'] + [str(i) for i in range(22)]"
   ]
  },
  {
   "cell_type": "markdown",
   "id": "0f6c93b8-d4ac-46ea-b8f5-e0edfdcf6872",
   "metadata": {},
   "source": [
    "# Exploratory Data Analysis(EDA)"
   ]
  },
  {
   "cell_type": "code",
   "execution_count": null,
   "id": "4894694c-c48e-4fa6-9b4f-46806b99404f",
   "metadata": {},
   "outputs": [],
   "source": [
    "df.sample(5)"
   ]
  },
  {
   "cell_type": "code",
   "execution_count": null,
   "id": "3f4f3af3-ee20-4207-b30e-8d6935e82244",
   "metadata": {},
   "outputs": [],
   "source": [
    "df1.sample(5)"
   ]
  },
  {
   "cell_type": "code",
   "execution_count": null,
   "id": "992cbd13-3bba-4a49-a483-b4a35c6cfe4c",
   "metadata": {},
   "outputs": [],
   "source": [
    "df.info()"
   ]
  },
  {
   "cell_type": "code",
   "execution_count": null,
   "id": "dba7c48f-c987-44d4-a5d0-224add17a3cf",
   "metadata": {
    "tags": []
   },
   "outputs": [],
   "source": [
    "df1.info()"
   ]
  },
  {
   "cell_type": "code",
   "execution_count": null,
   "id": "eacf14e9-9c92-46fe-9bb4-f5291db3a80f",
   "metadata": {
    "tags": []
   },
   "outputs": [],
   "source": [
    "df.describe(include='all')"
   ]
  },
  {
   "cell_type": "code",
   "execution_count": null,
   "id": "80730e6f-c225-4640-bc4c-1dda5a59cdef",
   "metadata": {
    "tags": []
   },
   "outputs": [],
   "source": [
    "df1.describe(include='all')"
   ]
  },
  {
   "cell_type": "code",
   "execution_count": null,
   "id": "9176fbf7-1b3f-485e-8749-f4a513adcbd0",
   "metadata": {},
   "outputs": [],
   "source": [
    "Try to find the Different Data\n",
    "1.Strings with Categorical Info\n",
    "2.Strings with Random Stuff\n",
    "3.Numbers with Qunitified Info\n",
    "4.Numbers with Categorical Info\n",
    "5.Random Numbers or ID sort of data"
   ]
  },
  {
   "cell_type": "code",
   "execution_count": null,
   "id": "dc5aa75c-5abf-4a8b-9762-cced36edf8af",
   "metadata": {},
   "outputs": [],
   "source": [
    "df.columns"
   ]
  },
  {
   "cell_type": "code",
   "execution_count": null,
   "id": "d0541170-ebd7-4f99-94be-7f1f5ba309b3",
   "metadata": {},
   "outputs": [],
   "source": [
    "df['rating'].unique()"
   ]
  },
  {
   "cell_type": "code",
   "execution_count": null,
   "id": "25916791-1a2b-4534-ad97-43cff1e9790f",
   "metadata": {},
   "outputs": [],
   "source": [
    "df['rating'].nunique()"
   ]
  },
  {
   "cell_type": "code",
   "execution_count": null,
   "id": "972cceed-4313-4867-a99c-2fee6ba92cf4",
   "metadata": {},
   "outputs": [],
   "source": [
    "df['user_id'].nunique()"
   ]
  },
  {
   "cell_type": "code",
   "execution_count": null,
   "id": "dcdecfe5-c993-438e-999d-e996b2f0d6a6",
   "metadata": {},
   "outputs": [],
   "source": [
    "df['movie_id'].nunique()"
   ]
  },
  {
   "cell_type": "code",
   "execution_count": null,
   "id": "ea9debe1-d6d6-4fec-bd85-9bc4004d359c",
   "metadata": {},
   "outputs": [],
   "source": [
    "#Merging DataFrames"
   ]
  },
  {
   "cell_type": "code",
   "execution_count": null,
   "id": "8385b21c-c8fe-4e0f-913c-623ab600e2f5",
   "metadata": {},
   "outputs": [],
   "source": [
    "movie = pd.merge(df,df1, on='movie_id')\n",
    "movie.head()"
   ]
  },
  {
   "cell_type": "code",
   "execution_count": null,
   "id": "b11af8aa-5f30-45ae-925e-3b2f2508c826",
   "metadata": {},
   "outputs": [],
   "source": [
    "#Remove the reduntant or useless columns i.e. ts\n",
    "movie.drop"
   ]
  },
  {
   "cell_type": "code",
   "execution_count": null,
   "id": "5352d42c-709a-40f9-a270-ed9a74d0af25",
   "metadata": {},
   "outputs": [],
   "source": [
    "movie.head()"
   ]
  },
  {
   "cell_type": "code",
   "execution_count": null,
   "id": "55d5a88a-aac1-481c-95ae-bc6017d45649",
   "metadata": {},
   "outputs": [],
   "source": [
    "#Find the number of ratings for each movie\n",
    "movie['title'].value_counts()"
   ]
  },
  {
   "cell_type": "code",
   "execution_count": null,
   "id": "03ef3f01-ae87-4fd7-86f3-e3c2a7d8f822",
   "metadata": {},
   "outputs": [],
   "source": [
    "#Find the average rating for each movie\n",
    "movie.groupby('title')\\['rating'].mean().sort_values(ascending=False).head(10)"
   ]
  },
  {
   "cell_type": "code",
   "execution_count": null,
   "id": "5463012e-2aff-486d-86fa-97581def04b9",
   "metadata": {},
   "outputs": [],
   "source": [
    "ratings = pd.DataFrame(movie.groupby('title')\\\n",
    "                       ['rating'].mean().sort_values(ascending=False))"
   ]
  },
  {
   "cell_type": "code",
   "execution_count": null,
   "id": "11b8783c-b513-40f9-bb46-54d992bcb236",
   "metadata": {},
   "outputs": [],
   "source": [
    "rating"
   ]
  },
  {
   "cell_type": "code",
   "execution_count": null,
   "id": "800354f4-bd54-40c6-b4ab-a0190bfee1d9",
   "metadata": {},
   "outputs": [],
   "source": [
    "rating.head(20)"
   ]
  },
  {
   "cell_type": "code",
   "execution_count": null,
   "id": "71d0d0a3-f03e-4bd5-9b61-b251ddd5169a",
   "metadata": {
    "tags": []
   },
   "outputs": [],
   "source": [
    "rating.sort_values(by='count',ascending=False).head(20)"
   ]
  },
  {
   "cell_type": "code",
   "execution_count": null,
   "id": "fc509784-fe08-406a-8836-4a5ee1d76486",
   "metadata": {},
   "outputs": [],
   "source": [
    "movies_selected = 'Star Wars (1977)' "
   ]
  },
  {
   "cell_type": "code",
   "execution_count": null,
   "id": "7488d0ed-7708-404f-9221-d7889c64bc23",
   "metadata": {
    "tags": []
   },
   "outputs": [],
   "source": [
    "ms_rates = movie_pivot(movie_selected)\n",
    "ms_rates.head()"
   ]
  },
  {
   "cell_type": "code",
   "execution_count": null,
   "id": "fd43bfba-578a-4133-8e16-1fb9cc9e2ce5",
   "metadata": {},
   "outputs": [],
   "source": [
    "import warnings\n",
    "warnings.filterwarnings('ignore')"
   ]
  },
  {
   "cell_type": "code",
   "execution_count": null,
   "id": "47b8bbc1-a802-4bb7-9630-644e52151c5b",
   "metadata": {},
   "outputs": [],
   "source": [
    "corrs = movie_pivot.corrwith(ms_rates)\n",
    "corrs.head(20)"
   ]
  },
  {
   "cell_type": "code",
   "execution_count": null,
   "id": "91958d02-fa87-4bf3-8d92-14c608913ca1",
   "metadata": {},
   "outputs": [],
   "source": [
    "corrs.sort_values(Ascending=False).head(20)"
   ]
  },
  {
   "cell_type": "code",
   "execution_count": null,
   "id": "3e534250-058a-4e08-b173-03dc06cab51e",
   "metadata": {},
   "outputs": [],
   "source": []
  }
 ],
 "metadata": {
  "kernelspec": {
   "display_name": "Python 3 (ipykernel)",
   "language": "python",
   "name": "python3"
  },
  "language_info": {
   "codemirror_mode": {
    "name": "ipython",
    "version": 3
   },
   "file_extension": ".py",
   "mimetype": "text/x-python",
   "name": "python",
   "nbconvert_exporter": "python",
   "pygments_lexer": "ipython3",
   "version": "3.9.12"
  }
 },
 "nbformat": 4,
 "nbformat_minor": 5
}
